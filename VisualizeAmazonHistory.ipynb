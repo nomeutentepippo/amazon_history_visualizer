{
 "cells": [
  {
   "cell_type": "code",
   "execution_count": 1,
   "id": "67264278-c162-47e1-b35c-e719a321a336",
   "metadata": {},
   "outputs": [],
   "source": [
    "import pandas as pd\n",
    "import numpy as np\n",
    "import warnings\n",
    "warnings.filterwarnings('ignore')\n",
    "import plotly.express as px\n",
    "import matplotlib.pyplot as plt\n",
    "import seaborn as sns\n",
    "import matplotlib.dates as mdates"
   ]
  },
  {
   "cell_type": "code",
   "execution_count": 33,
   "id": "37aca16b-1b6a-4427-9c5e-4dc3367332a6",
   "metadata": {},
   "outputs": [],
   "source": [
    "class visualizer:\n",
    "    def __init__(self):\n",
    "        self.background_color = '#e47911'\n",
    "        self.palette_hex = ['#e47911', '#232f3e', '#111111', '#48a3c6',\n",
    "                            '#007eb9', '#cccccc', '#37475a'] #amazon-like palette https://colorswall.com/palette/3835\n",
    "        self.palette_ccs = [\"DarkOrange\", \"MidnightBlue\", \"Black\", \"DodgerBlue\", \"SteelBlue\", \n",
    "                            \"WhiteSmoke\", \"DarkSlateGray\", \"LightGray\"] #amazon-like palette in CCS-color names\n",
    "        self.fig_size = (13, 9) \n",
    "        self.label_font_size = 15\n",
    "        self.title_font_size = 17\n",
    "        self.bbox_inches='tight'\n",
    "        self.figure_dpi=200\n",
    "        self.facecolor=\"#F0F0F0\"\n",
    "        self.figurecolor='#ffffff'\n",
    "        self.legend_facecolor='#ffffff'\n",
    "        self.legend_framealpha=0.5\n",
    "    \n",
    "    def visualize_category(self, order_category_gr, caterogy_columns, html_filename):\n",
    "        order_category_gr=order_category_gr.fillna('nnnn')\n",
    "        fig = px.treemap(order_category_gr, path=caterogy_columns, values='count', #color='Category_1',    \n",
    "                color_discrete_sequence = self.palette_ccs,\n",
    "                title='The physical stores that have seen you the least in recent years')\n",
    "        #fig.title('This is a somewhat long figure title', fontsize=self.title_font_size)\n",
    "        fig.data[0]['textfont']['size'] = 20\n",
    "        #https://github.com/plotly/plotly.py/issues/3589\n",
    "        figure_data = fig[\"data\"][0]\n",
    "        mask = np.char.find(figure_data.ids.astype(str), \"nnnn\") == -1\n",
    "        figure_data.ids = figure_data.ids[mask]\n",
    "        figure_data.values = figure_data.values[mask]\n",
    "        figure_data.labels = figure_data.labels[mask]\n",
    "        figure_data.parents = figure_data.parents[mask]        \n",
    "        fig.show()\n",
    "        fig.write_html(html_filename)\n",
    "        \n",
    "    def visualize_orders(self, orders_return, png_filename):\n",
    "        plt.rcParams[\"figure.figsize\"] = self.fig_size\n",
    "        #set seaborn plotting aesthetics amazon-like\n",
    "        sns.set(rc={'axes.facecolor':self.facecolor, 'figure.facecolor':self.figurecolor})\n",
    "        #create stacked bar chart\n",
    "        orders_return.plot(kind='barh', stacked=True, color=[self.palette_hex[0], self.palette_hex[1]])\n",
    "        plt.legend(facecolor=self.legend_facecolor, framealpha=self.legend_framealpha)  \n",
    "        #add overall title\n",
    "        plt.title('Your amazon addiction and second thoughts', fontsize=self.title_font_size)\n",
    "        #add axis titles\n",
    "        plt.xlabel('Number of orders',fontsize=self.label_font_size)\n",
    "        plt.ylabel('Year',fontsize=self.label_font_size)\n",
    "        plt.savefig(png_filename, bbox_inches=self.bbox_inches, dpi=self.figure_dpi)\n",
    "        \n",
    "    \n",
    "    def visualize_expense(self, df_cum, png_filename):     \n",
    "        # crea la figura e gli assi\n",
    "        fig, ax = plt.subplots(figsize=self.fig_size)\n",
    "        ax.set_facecolor(self.facecolor)\n",
    "        fig.set_facecolor(self.figurecolor)\n",
    "        color_map = self.palette_hex\n",
    "        plt.title(\"How much money you gave to Jeff so far\", fontsize=self.title_font_size)\n",
    "        # disegna lo stackplot\n",
    "        ax.stackplot(df_cum.index, df_cum.values.T, labels=df_cum.columns,alpha=0.8, colors = color_map)\n",
    "        # imposta le etichette per le x e le y\n",
    "        ax.set_xlabel(\"Year\",fontsize=self.label_font_size)\n",
    "        ax.set_ylabel(\"Expense €\",fontsize=self.label_font_size)\n",
    "        # mostra la legenda\n",
    "        ax.legend(loc=\"upper left\",facecolor=self.legend_facecolor, framealpha=self.legend_framealpha)  \n",
    "        ax.xaxis.set_major_locator(mdates.MonthLocator(interval=12))\n",
    "        ax.xaxis.set_major_formatter(mdates.DateFormatter('%Y'))\n",
    "        cum_text_pos=0\n",
    "        i=-1\n",
    "        for cat in df_cum.columns:\n",
    "            i=i+1\n",
    "            cum_text_pos = cum_text_pos + df_cum.loc[df_cum.index[-1], cat]\n",
    "            plt.text(x=df_cum.index.max(),\n",
    "                     y=cum_text_pos - df_cum.loc[df_cum.index[-1], cat]/2,\n",
    "                     s=f'{int(np.rint(df_cum.loc[df_cum.index[-1], cat]))} €', \n",
    "                     color=color_map[i],\n",
    "                     fontsize=12,\n",
    "                     fontweight=\"bold\",\n",
    "                horizontalalignment='left',\n",
    "                verticalalignment='center',\n",
    "                #bbox={'facecolor': 'white', 'alpha': 0.5, 'pad': 2}\n",
    "                    )\n",
    "        plt.text(x=df_cum.index.max(),\n",
    "                 y=cum_text_pos,\n",
    "                 s=f'{int(np.rint(df_cum.sum(axis=1)[-1]))} €', \n",
    "                 color=\"black\",\n",
    "                 fontsize=17,\n",
    "                 fontweight=\"bold\",\n",
    "                horizontalalignment='center',\n",
    "                verticalalignment='bottom')    \n",
    "\n",
    "        plt.savefig(png_filename, bbox_inches=self.bbox_inches, dpi=self.figure_dpi)\n",
    "        # mostra il grafico\n",
    "        plt.show()"
   ]
  },
  {
   "cell_type": "code",
   "execution_count": 34,
   "id": "c6d07798-8adf-4fe0-8d8a-bcb9161cd9ff",
   "metadata": {},
   "outputs": [],
   "source": [
    "v = visualizer()\n",
    "\n",
    "def visualize_item_by_category(order_data, _max_category_level=3, html_filename='images/categories_tree.html'):\n",
    "    order_category = order_data.loc[order_data['Refound €'].isna() & order_data['Categories'].str.len() != 0, [\"Purchased Price €\", \"Categories\"]]\n",
    "    # Splitta la colonna Categories in più colonne\n",
    "    order_category = order_category['Categories'].apply(lambda x: pd.Series(x)).merge(order_category, left_index=True, right_index=True)\n",
    "\n",
    "    # Rinomina le colonne in base al loro indice\n",
    "    order_category.rename(columns={i: f'Category_{i+1}' for i in range(order_category.shape[1]-1)}, inplace=True)\n",
    "\n",
    "    # Drop la colonna Categories originale\n",
    "    order_category.drop(['Categories'], axis=1, inplace=True)\n",
    "    order_category = order_category.where(pd.notnull(order_category), None)\n",
    "    \n",
    "    max_category_level = _max_category_level\n",
    "    caterogy_columns = [col for col in order_category if col.startswith('Category_')]\n",
    "    caterogy_columns = [x for index, x in enumerate(caterogy_columns) if index < max_category_level]\n",
    "    order_category_gr = order_category.groupby(caterogy_columns, dropna=False)['Purchased Price €'].agg(['sum','count']).reset_index()\n",
    "    \n",
    "    v.visualize_category(order_category_gr, caterogy_columns, html_filename)   \n",
    "    \n",
    "    \n",
    "def visualize_orders_by_year(order_data, png_filename='images/orders_by_year.png'):\n",
    "    order_count = order_data.loc[order_data['Refound €'].isna(), ['Purchased Price €',\"Year\"]].groupby(['Year']).agg(['count'])\n",
    "    idx = range(order_count.index.min(), order_count.index.max()+1, 1)\n",
    "    order_count = order_count.reindex(idx, fill_value=0)\n",
    "    order_count.columns = order_count.columns.droplevel(0)\n",
    "    order_count.columns = ['orders']\n",
    "    \n",
    "    return_count = order_data.loc[~order_data['Refound €'].isna(), ['Purchased Price €',\"Year\"]].groupby(['Year']).agg(['count'])\n",
    "    return_count = return_count.reindex(idx, fill_value=0)\n",
    "    return_count.columns = return_count.columns.droplevel(0)\n",
    "    return_count.columns = ['returns']\n",
    "    \n",
    "    orders_return = pd.merge(order_count,return_count, left_index=True, right_index=True)\n",
    "    \n",
    "    v.visualize_orders(orders_return, png_filename)   \n",
    "    \n",
    "    \n",
    "def cumulative_expense(order_data, categories_of_interest=[\"Libri\", \"Elettronica\", \"Informatica\"], png_filename='images/cumulative_expense.png'):\n",
    "    cumulative_purchase = order_data[['Purchased Price €', 'Refound €', 'Order Date', 'Categories']]\n",
    "    cumulative_purchase['Net €'] = cumulative_purchase['Purchased Price €'] - cumulative_purchase['Refound €'].fillna(0)\n",
    "    cumulative_purchase['Category'] = cumulative_purchase['Categories'].str[0]\n",
    "    cumulative_purchase = cumulative_purchase.groupby(['Order Date', 'Category'])['Net €'].agg(['sum'])\n",
    "    cumulative_purchase = cumulative_purchase.unstack(level=-1).fillna(0)\n",
    "    cumulative_purchase = cumulative_purchase.rename_axis(None)\n",
    "    cumulative_purchase.columns = cumulative_purchase.columns.droplevel()\n",
    "    \n",
    "    keep_cols = categories_of_interest\n",
    "    cumulative_purchase_selected = cumulative_purchase[keep_cols]\n",
    "    # Somma le restanti colonne\n",
    "    sum_cols = cumulative_purchase.drop(columns=keep_cols)\n",
    "    sum_df = sum_cols.sum(axis=1)\n",
    "    # Aggiungi la somma alle tre colonne mantenute\n",
    "    cumulative_purchase_selected[\"Other\"] = sum_df    \n",
    "    # calcola la somma cumulativa per ciascuna categoria\n",
    "    df_cum = cumulative_purchase_selected.cumsum(axis=0)\n",
    "    dates = pd.date_range(df_cum.index.min(), df_cum.index.max(), freq=\"D\")\n",
    "    df_cum.reindex(dates, fill_value=0)\n",
    "    \n",
    "    v.visualize_expense(df_cum, png_filename)\n"
   ]
  },
  {
   "cell_type": "code",
   "execution_count": 37,
   "id": "aa73f492-4cda-4a7a-8a34-cd2404eb635f",
   "metadata": {},
   "outputs": [],
   "source": [
    "order_data.to_pickle(\"order_data_anonymized_.pkl\")"
   ]
  },
  {
   "cell_type": "code",
   "execution_count": 38,
   "id": "dea4a249-e586-4fcd-90c0-c72a402993a9",
   "metadata": {
    "tags": []
   },
   "outputs": [
    {
     "data": {
      "text/html": [
       "<div>\n",
       "<style scoped>\n",
       "    .dataframe tbody tr th:only-of-type {\n",
       "        vertical-align: middle;\n",
       "    }\n",
       "\n",
       "    .dataframe tbody tr th {\n",
       "        vertical-align: top;\n",
       "    }\n",
       "\n",
       "    .dataframe thead th {\n",
       "        text-align: right;\n",
       "    }\n",
       "</style>\n",
       "<table border=\"1\" class=\"dataframe\">\n",
       "  <thead>\n",
       "    <tr style=\"text-align: right;\">\n",
       "      <th></th>\n",
       "      <th>Name</th>\n",
       "      <th>Categories</th>\n",
       "      <th>Purchased Price €</th>\n",
       "      <th>Refound €</th>\n",
       "      <th>Link</th>\n",
       "      <th>Current Price €</th>\n",
       "      <th>Order Date</th>\n",
       "      <th>Day Of Week</th>\n",
       "      <th>Month</th>\n",
       "      <th>Year</th>\n",
       "      <th>Order Total Cost €</th>\n",
       "      <th>Addressee</th>\n",
       "    </tr>\n",
       "  </thead>\n",
       "  <tbody>\n",
       "    <tr>\n",
       "      <th>0</th>\n",
       "      <td>_anonymized_</td>\n",
       "      <td>[Libri, Letteratura e narrativa, Classici]</td>\n",
       "      <td>12.67</td>\n",
       "      <td>NaN</td>\n",
       "      <td>amazon.it/gp/product/_anonymized_</td>\n",
       "      <td>14.15</td>\n",
       "      <td>2016-06-30</td>\n",
       "      <td>Thursday</td>\n",
       "      <td>June</td>\n",
       "      <td>2016</td>\n",
       "      <td>0.00</td>\n",
       "      <td>_anonymized_</td>\n",
       "    </tr>\n",
       "    <tr>\n",
       "      <th>1</th>\n",
       "      <td>_anonymized_</td>\n",
       "      <td>[Elettronica, Cellulari e accessori, Accessori...</td>\n",
       "      <td>11.99</td>\n",
       "      <td>NaN</td>\n",
       "      <td>amazon.it/gp/product/_anonymized_</td>\n",
       "      <td>12.99</td>\n",
       "      <td>2022-02-27</td>\n",
       "      <td>Sunday</td>\n",
       "      <td>February</td>\n",
       "      <td>2022</td>\n",
       "      <td>0.00</td>\n",
       "      <td>_anonymized_</td>\n",
       "    </tr>\n",
       "    <tr>\n",
       "      <th>2</th>\n",
       "      <td>_anonymized_</td>\n",
       "      <td>[Libri, Letteratura e narrativa, Narrativa con...</td>\n",
       "      <td>13.60</td>\n",
       "      <td>NaN</td>\n",
       "      <td>amazon.it/gp/product/_anonymized_</td>\n",
       "      <td>15.20</td>\n",
       "      <td>2020-03-08</td>\n",
       "      <td>Sunday</td>\n",
       "      <td>March</td>\n",
       "      <td>2020</td>\n",
       "      <td>0.00</td>\n",
       "      <td>_anonymized_</td>\n",
       "    </tr>\n",
       "    <tr>\n",
       "      <th>3</th>\n",
       "      <td>_anonymized_</td>\n",
       "      <td>[Elettronica, Cuffie, auricolari e accessori, ...</td>\n",
       "      <td>7.99</td>\n",
       "      <td>NaN</td>\n",
       "      <td>amazon.it/gp/product/_anonymized_</td>\n",
       "      <td>NaN</td>\n",
       "      <td>2019-02-13</td>\n",
       "      <td>Wednesday</td>\n",
       "      <td>February</td>\n",
       "      <td>2019</td>\n",
       "      <td>0.00</td>\n",
       "      <td>_anonymized_</td>\n",
       "    </tr>\n",
       "    <tr>\n",
       "      <th>4</th>\n",
       "      <td>_anonymized_</td>\n",
       "      <td>[Alimentari e cura della casa, Caffè, tè e bev...</td>\n",
       "      <td>22.62</td>\n",
       "      <td>NaN</td>\n",
       "      <td>amazon.it/gp/product/_anonymized_</td>\n",
       "      <td>NaN</td>\n",
       "      <td>2022-11-28</td>\n",
       "      <td>Monday</td>\n",
       "      <td>November</td>\n",
       "      <td>2022</td>\n",
       "      <td>0.55</td>\n",
       "      <td>_anonymized_</td>\n",
       "    </tr>\n",
       "    <tr>\n",
       "      <th>...</th>\n",
       "      <td>...</td>\n",
       "      <td>...</td>\n",
       "      <td>...</td>\n",
       "      <td>...</td>\n",
       "      <td>...</td>\n",
       "      <td>...</td>\n",
       "      <td>...</td>\n",
       "      <td>...</td>\n",
       "      <td>...</td>\n",
       "      <td>...</td>\n",
       "      <td>...</td>\n",
       "      <td>...</td>\n",
       "    </tr>\n",
       "    <tr>\n",
       "      <th>414</th>\n",
       "      <td>_anonymized_</td>\n",
       "      <td>[Bellezza, Cura della pelle, Viso, Detergenti ...</td>\n",
       "      <td>9.99</td>\n",
       "      <td>NaN</td>\n",
       "      <td>amazon.it/gp/product/_anonymized_</td>\n",
       "      <td>NaN</td>\n",
       "      <td>2020-08-10</td>\n",
       "      <td>Monday</td>\n",
       "      <td>August</td>\n",
       "      <td>2020</td>\n",
       "      <td>0.00</td>\n",
       "      <td>_anonymized_</td>\n",
       "    </tr>\n",
       "    <tr>\n",
       "      <th>415</th>\n",
       "      <td>_anonymized_</td>\n",
       "      <td>[Moda, Uomo, Abbigliamento, Giacche e cappotti...</td>\n",
       "      <td>54.98</td>\n",
       "      <td>82.98</td>\n",
       "      <td>amazon.it/gp/product/_anonymized_</td>\n",
       "      <td>NaN</td>\n",
       "      <td>2022-04-12</td>\n",
       "      <td>Tuesday</td>\n",
       "      <td>April</td>\n",
       "      <td>2022</td>\n",
       "      <td>0.00</td>\n",
       "      <td>_anonymized_</td>\n",
       "    </tr>\n",
       "    <tr>\n",
       "      <th>416</th>\n",
       "      <td>_anonymized_</td>\n",
       "      <td>[Giochi e giocattoli, Giochi da tavola, di soc...</td>\n",
       "      <td>9.68</td>\n",
       "      <td>NaN</td>\n",
       "      <td>amazon.it/gp/product/_anonymized_</td>\n",
       "      <td>15.99</td>\n",
       "      <td>2018-12-04</td>\n",
       "      <td>Tuesday</td>\n",
       "      <td>December</td>\n",
       "      <td>2018</td>\n",
       "      <td>0.00</td>\n",
       "      <td>_anonymized_</td>\n",
       "    </tr>\n",
       "    <tr>\n",
       "      <th>417</th>\n",
       "      <td>_anonymized_</td>\n",
       "      <td>[Libri, Arte, cinema e fotografia, Film]</td>\n",
       "      <td>15.30</td>\n",
       "      <td>NaN</td>\n",
       "      <td>amazon.it/gp/product/_anonymized_</td>\n",
       "      <td>17.10</td>\n",
       "      <td>2015-01-20</td>\n",
       "      <td>Tuesday</td>\n",
       "      <td>January</td>\n",
       "      <td>2015</td>\n",
       "      <td>0.00</td>\n",
       "      <td>_anonymized_</td>\n",
       "    </tr>\n",
       "    <tr>\n",
       "      <th>418</th>\n",
       "      <td>_anonymized_</td>\n",
       "      <td>[Elettronica, Cellulari e accessori, Accessori...</td>\n",
       "      <td>6.99</td>\n",
       "      <td>NaN</td>\n",
       "      <td>amazon.it/gp/product/_anonymized_</td>\n",
       "      <td>7.99</td>\n",
       "      <td>2020-06-16</td>\n",
       "      <td>Tuesday</td>\n",
       "      <td>June</td>\n",
       "      <td>2020</td>\n",
       "      <td>0.00</td>\n",
       "      <td>_anonymized_</td>\n",
       "    </tr>\n",
       "  </tbody>\n",
       "</table>\n",
       "<p>419 rows × 12 columns</p>\n",
       "</div>"
      ],
      "text/plain": [
       "             Name                                         Categories  \\\n",
       "0    _anonymized_         [Libri, Letteratura e narrativa, Classici]   \n",
       "1    _anonymized_  [Elettronica, Cellulari e accessori, Accessori...   \n",
       "2    _anonymized_  [Libri, Letteratura e narrativa, Narrativa con...   \n",
       "3    _anonymized_  [Elettronica, Cuffie, auricolari e accessori, ...   \n",
       "4    _anonymized_  [Alimentari e cura della casa, Caffè, tè e bev...   \n",
       "..            ...                                                ...   \n",
       "414  _anonymized_  [Bellezza, Cura della pelle, Viso, Detergenti ...   \n",
       "415  _anonymized_  [Moda, Uomo, Abbigliamento, Giacche e cappotti...   \n",
       "416  _anonymized_  [Giochi e giocattoli, Giochi da tavola, di soc...   \n",
       "417  _anonymized_           [Libri, Arte, cinema e fotografia, Film]   \n",
       "418  _anonymized_  [Elettronica, Cellulari e accessori, Accessori...   \n",
       "\n",
       "     Purchased Price €  Refound €                               Link  \\\n",
       "0                12.67        NaN  amazon.it/gp/product/_anonymized_   \n",
       "1                11.99        NaN  amazon.it/gp/product/_anonymized_   \n",
       "2                13.60        NaN  amazon.it/gp/product/_anonymized_   \n",
       "3                 7.99        NaN  amazon.it/gp/product/_anonymized_   \n",
       "4                22.62        NaN  amazon.it/gp/product/_anonymized_   \n",
       "..                 ...        ...                                ...   \n",
       "414               9.99        NaN  amazon.it/gp/product/_anonymized_   \n",
       "415              54.98      82.98  amazon.it/gp/product/_anonymized_   \n",
       "416               9.68        NaN  amazon.it/gp/product/_anonymized_   \n",
       "417              15.30        NaN  amazon.it/gp/product/_anonymized_   \n",
       "418               6.99        NaN  amazon.it/gp/product/_anonymized_   \n",
       "\n",
       "     Current Price € Order Date Day Of Week     Month  Year  \\\n",
       "0              14.15 2016-06-30    Thursday      June  2016   \n",
       "1              12.99 2022-02-27      Sunday  February  2022   \n",
       "2              15.20 2020-03-08      Sunday     March  2020   \n",
       "3                NaN 2019-02-13   Wednesday  February  2019   \n",
       "4                NaN 2022-11-28      Monday  November  2022   \n",
       "..               ...        ...         ...       ...   ...   \n",
       "414              NaN 2020-08-10      Monday    August  2020   \n",
       "415              NaN 2022-04-12     Tuesday     April  2022   \n",
       "416            15.99 2018-12-04     Tuesday  December  2018   \n",
       "417            17.10 2015-01-20     Tuesday   January  2015   \n",
       "418             7.99 2020-06-16     Tuesday      June  2020   \n",
       "\n",
       "     Order Total Cost €     Addressee  \n",
       "0                  0.00  _anonymized_  \n",
       "1                  0.00  _anonymized_  \n",
       "2                  0.00  _anonymized_  \n",
       "3                  0.00  _anonymized_  \n",
       "4                  0.55  _anonymized_  \n",
       "..                  ...           ...  \n",
       "414                0.00  _anonymized_  \n",
       "415                0.00  _anonymized_  \n",
       "416                0.00  _anonymized_  \n",
       "417                0.00  _anonymized_  \n",
       "418                0.00  _anonymized_  \n",
       "\n",
       "[419 rows x 12 columns]"
      ]
     },
     "execution_count": 38,
     "metadata": {},
     "output_type": "execute_result"
    }
   ],
   "source": [
    "order_data = pd.read_pickle('scrape_amazon_history/order_data.pkl')\n",
    "order_data['Name'] = '_anonymized_'\n",
    "order_data['Addressee'] = '_anonymized_'\n",
    "order_data['Link'] = 'amazon.it/gp/product/_anonymized_'\n",
    "order_data = order_data.reset_index(drop=True)\n",
    "order_data.to_pickle(\"scrape_amazon_history/order_data_anonymized_.pkl\")\n",
    "order_data"
   ]
  },
  {
   "cell_type": "code",
   "execution_count": 39,
   "id": "f49adbea-fe7f-4e6f-a246-ca797b21db1a",
   "metadata": {
    "tags": []
   },
   "outputs": [
    {
     "data": {
      "application/vnd.plotly.v1+json": {
       "config": {
        "plotlyServerURL": "https://plot.ly"
       },
       "data": [
        {
         "branchvalues": "total",
         "domain": {
          "x": [
           0,
           1
          ],
          "y": [
           0,
           1
          ]
         },
         "hovertemplate": "labels=%{label}<br>count=%{value}<br>parent=%{parent}<br>id=%{id}<extra></extra>",
         "ids": [
          "Moda/Donna/Abbigliamento",
          "Moda/Uomo/Abbigliamento",
          "Elettronica/Audio e video portatile/Accessori",
          "Elettronica/Cellulari e accessori/Accessori",
          "Elettronica/Elettronica per veicoli/Accessori",
          "Elettronica/Foto e videocamere/Accessori",
          "Elettronica/Home Cinema, TV e video/Accessori",
          "Casa e cucina/Tè e caffè/Accessori da tè",
          "Informatica/Accessori/Accessori per PC portatili",
          "Informatica/Accessori/Accessori per Tablet PC",
          "Elettronica/Foto e videocamere/Action camera",
          "Elettronica/Cuffie, auricolari e accessori/Adattatori",
          "Elettronica/Accessori di alimentazione elettrica/Adattatori da viaggio",
          "CD e Vinili/Indie e Alternativa/Alternative Rock",
          "Libri/Società e scienze sociali/Antropologia",
          "Libri/Arte, cinema e fotografia/Architettura",
          "Salute e cura della persona/Igiene intima/Assorbenti esterni",
          "Libri/Scienze, tecnologia e medicina/Astronomia",
          "Fai da te/Sicurezza e protezione/Attrezzature per sicurezza sul lavoro",
          "Giochi e giocattoli/Veicoli/Auto e auto da corsa",
          "Libri/Letteratura e narrativa/Azione e avventura",
          "Casa e cucina/Tessili per la casa/Biancheria da letto",
          "Casa e cucina/Vasellame/Bicchieri e cristalli",
          "Libri/Biografie, diari e memorie/Biografie e autobiografie",
          "Alimentari e cura della casa/Birra, vino e alcolici/Birra",
          "Sport e tempo libero/Attività ricreative all'aperto/Camping e outdoor",
          "Casa e cucina/Distributori d'acqua, caraffe filtranti e cartucce/Caraffe Filtranti",
          "Casa e cucina/Distributori d'acqua, caraffe filtranti e cartucce/Cartucce",
          "Informatica/Accessori/Cavi e accessori",
          "Elettronica/Cellulari e accessori/Cellulari e Smartphone",
          "Libri/Letteratura e narrativa/Classici",
          "Salute e cura della persona/Igiene dentale/Collutori",
          "Libri/Religione/Cristianesimo",
          "Libri/Tempo libero/Cucina",
          "Salute e cura della persona/Igiene dentale/Cura dentale neonati e bambini",
          "Salute e cura della persona/Igiene dentale/Dentifrici",
          "Salute e cura della persona/Igiene intima/Detergenti intimi",
          "Informatica/Dispositivi archiviazione dati/Dispositivi archiviazione dati esterni",
          "CD e Vinili/Dance ed Elettronica/Elettronica",
          "Giochi e giocattoli/Giocattoli da collezione/Espositori e raccoglitori",
          "Libri/Tempo libero/Fai da te e arti decorative",
          "Libri/Adolescenti e ragazzi/Fantascienza e fantasy",
          "Libri/Arte, cinema e fotografia/Film",
          "Libri/Arte, cinema e fotografia/Fotografia",
          "Fai da te/Materiale elettrico/Gestione del cavo",
          "Libri/Tempo libero/Giardinaggio",
          "Videogiochi/PC/Giochi",
          "Giochi e giocattoli/Giochi da tavola, di società e accessori/Giochi da tavolo",
          "Libri/Tempo libero/Giochi e quiz",
          "Libri/Viaggi/Guide turistiche",
          "Elettronica/Cuffie, auricolari e accessori/Imbottiture",
          "Attrezzature per l'irrigazione/Attrezzature per l'irrigazione automatica/Kit per irrigazione a goccia",
          "Illuminazione/Lampadine/Lampadine a LED",
          "Illuminazione/Lampadine/Lampadine alogene",
          "Illuminazione/Lampadine/Lampadine fluorescenti compatte",
          "Libri/Libri per bambini/Letteratura e narrativa",
          "Libri/Letteratura e narrativa/Letteratura mondiale",
          "Illuminazione/Illuminazione per esterni/Luci di sicurezza",
          "Libri/Scienze, tecnologia e medicina/Matematica",
          "Libri/Libri universitari/Medicina e scienze sanitarie",
          "Casa e cucina/Tè e caffè/Moke e caffettiere",
          "CD e Vinili/Musica internazionale/Musica latina",
          "Libri/Letteratura e narrativa/Narrativa contemporanea",
          "Libri/Letteratura e narrativa/Narrativa di genere",
          "Libri/Letteratura e narrativa/Narrativa letteraria",
          "Salute e cura della persona/Cura della vista/Occhiali da lettura",
          "Libri/Viaggi/Opere illustrate",
          "Alimentari e cura della casa/Cibi in scatola e conserve/Pesce e frutti di mare",
          "Casa e cucina/Vasellame/Piatti, ciotole e vassoi",
          "Elettronica/Pile e caricabatterie/Pile monouso",
          "Elettronica/Pile e caricabatterie/Pile ricaricabili",
          "Cancelleria e prodotti per ufficio/Elettronica per ufficio/Plastificatrici",
          "CD e Vinili/Pop/Pop Rock",
          "Casa e cucina/Vasellame/Posate",
          "Sport e tempo libero/Fitness e palestra/Potenziamento muscolare",
          "Elettronica/Home Cinema, TV e video/Proiettori",
          "Elettronica/Accessori di alimentazione elettrica/Prolunghe",
          "Salute e cura della persona/Prodotti per la medicazione/Pronto soccorso",
          "Libri/Letteratura e narrativa/Racconti e antologie",
          "Salute e cura della persona/Rasatura, epilazione e rimozione peli/Rasatura manuale",
          "Grandi elettrodomestici/Accessori e parti di ricambio/Ricambi e accessori per lavastoviglie",
          "Casa e cucina/Elettrodomestici per la cucina/Robot da cucina, frullatori e impastatrici",
          "Libri/Letteratura e narrativa/Saggi e corrispondenza",
          "Alimentari e cura della casa/Salse e sughi/Salse da tavola e condimenti",
          "Moda/Bambini e ragazzi/Scarpe",
          "Moda/Donna/Scarpe",
          "Moda/Uomo/Scarpe",
          "Libri/Libri universitari/Scienze e matematica",
          "Salute e cura della persona/Ausili per la mobilità e vita quotidiana/Sedie a rotelle, scooter disabili e accessori",
          "Salute e cura della persona/Erotismo e contraccezione/Sesso sicuro e contraccezione",
          "Sport e tempo libero/Sport/Sport acquatici",
          "Casa e cucina/Detergenti e prodotti per la pulizia/Spugne",
          "Fai da te/Ferramenta/Staffe e supporti per mensole",
          "Libri/Arte, cinema e fotografia/Storia dell'arte, teoria e critica",
          "Libri/Letteratura e narrativa/Storia della letteratura e critica letteraria",
          "Fai da te/Utensili elettrici e a mano/Strumenti di misura e layout",
          "Bellezza/Accessori e strumenti di bellezza/Strumenti e accessori per trucco",
          "Bellezza/Cura dei capelli/Strumenti per lo styling",
          "Libri/Politica/Strutture e processi politici",
          "Informatica/Accessori/Tastiere, Mouse e periferiche di input",
          "Libri/Sport/Tennis",
          "Libri/Adolescenti e ragazzi/Testi di formazione e consultazione",
          "Libri/Libri per bambini/Testi di formazione e consultazione",
          "Casa e cucina/Contenitori e barattoli/Thermos",
          "Sport e tempo libero/Sport/Tiro con l'arco",
          "Libri/Libri universitari/Umanistica",
          "Fai da te/Utensili elettrici e a mano/Utensili a mano",
          "Bellezza/Cura della pelle/Viso",
          "Moda/Valigie, borse e accessori da viaggio/Zaini",
          "Informatica/Accessori",
          "Elettronica/Accessori di alimentazione elettrica",
          "Grandi elettrodomestici/Accessori e parti di ricambio",
          "Bellezza/Accessori e strumenti di bellezza",
          "Libri/Adolescenti e ragazzi",
          "Libri/Arte, cinema e fotografia",
          "Sport e tempo libero/Attività ricreative all'aperto",
          "Attrezzature per l'irrigazione/Attrezzature per l'irrigazione automatica",
          "Elettronica/Audio e video portatile",
          "Salute e cura della persona/Ausili per la mobilità e vita quotidiana",
          "Moda/Bambini e ragazzi",
          "Libri/Biografie, diari e memorie",
          "Alimentari e cura della casa/Birra, vino e alcolici",
          "Elettronica/Cellulari e accessori",
          "Alimentari e cura della casa/Cibi in scatola e conserve",
          "Casa e cucina/Contenitori e barattoli",
          "Elettronica/Cuffie, auricolari e accessori",
          "Bellezza/Cura dei capelli",
          "Bellezza/Cura della pelle",
          "Salute e cura della persona/Cura della vista",
          "CD e Vinili/Dance ed Elettronica",
          "Casa e cucina/Detergenti e prodotti per la pulizia",
          "Informatica/Dispositivi archiviazione dati",
          "Casa e cucina/Distributori d'acqua, caraffe filtranti e cartucce",
          "Moda/Donna",
          "Casa e cucina/Elettrodomestici per la cucina",
          "Cancelleria e prodotti per ufficio/Elettronica per ufficio",
          "Elettronica/Elettronica per veicoli",
          "Salute e cura della persona/Erotismo e contraccezione",
          "Fai da te/Ferramenta",
          "Sport e tempo libero/Fitness e palestra",
          "Elettronica/Foto e videocamere",
          "Giochi e giocattoli/Giocattoli da collezione",
          "Giochi e giocattoli/Giochi da tavola, di società e accessori",
          "Elettronica/Home Cinema, TV e video",
          "Salute e cura della persona/Igiene dentale",
          "Salute e cura della persona/Igiene intima",
          "Illuminazione/Illuminazione per esterni",
          "CD e Vinili/Indie e Alternativa",
          "Illuminazione/Lampadine",
          "Libri/Letteratura e narrativa",
          "Libri/Libri per bambini",
          "Libri/Libri universitari",
          "Fai da te/Materiale elettrico",
          "CD e Vinili/Musica internazionale",
          "Videogiochi/PC",
          "Elettronica/Pile e caricabatterie",
          "Libri/Politica",
          "CD e Vinili/Pop",
          "Salute e cura della persona/Prodotti per la medicazione",
          "Salute e cura della persona/Rasatura, epilazione e rimozione peli",
          "Libri/Religione",
          "Alimentari e cura della casa/Salse e sughi",
          "Libri/Scienze, tecnologia e medicina",
          "Fai da te/Sicurezza e protezione",
          "Libri/Società e scienze sociali",
          "Libri/Sport",
          "Sport e tempo libero/Sport",
          "Libri/Tempo libero",
          "Casa e cucina/Tessili per la casa",
          "Casa e cucina/Tè e caffè",
          "Moda/Uomo",
          "Fai da te/Utensili elettrici e a mano",
          "Moda/Valigie, borse e accessori da viaggio",
          "Casa e cucina/Vasellame",
          "Giochi e giocattoli/Veicoli",
          "Libri/Viaggi",
          "Alimentari e cura della casa",
          "Attrezzature per l'irrigazione",
          "Bellezza",
          "CD e Vinili",
          "Cancelleria e prodotti per ufficio",
          "Casa e cucina",
          "Elettronica",
          "Fai da te",
          "Giochi e giocattoli",
          "Grandi elettrodomestici",
          "Illuminazione",
          "Informatica",
          "Libri",
          "Moda",
          "Salute e cura della persona",
          "Sport e tempo libero",
          "Videogiochi"
         ],
         "labels": [
          "Abbigliamento",
          "Abbigliamento",
          "Accessori",
          "Accessori",
          "Accessori",
          "Accessori",
          "Accessori",
          "Accessori da tè",
          "Accessori per PC portatili",
          "Accessori per Tablet PC",
          "Action camera",
          "Adattatori",
          "Adattatori da viaggio",
          "Alternative Rock",
          "Antropologia",
          "Architettura",
          "Assorbenti esterni",
          "Astronomia",
          "Attrezzature per sicurezza sul lavoro",
          "Auto e auto da corsa",
          "Azione e avventura",
          "Biancheria da letto",
          "Bicchieri e cristalli",
          "Biografie e autobiografie",
          "Birra",
          "Camping e outdoor",
          "Caraffe Filtranti",
          "Cartucce",
          "Cavi e accessori",
          "Cellulari e Smartphone",
          "Classici",
          "Collutori",
          "Cristianesimo",
          "Cucina",
          "Cura dentale neonati e bambini",
          "Dentifrici",
          "Detergenti intimi",
          "Dispositivi archiviazione dati esterni",
          "Elettronica",
          "Espositori e raccoglitori",
          "Fai da te e arti decorative",
          "Fantascienza e fantasy",
          "Film",
          "Fotografia",
          "Gestione del cavo",
          "Giardinaggio",
          "Giochi",
          "Giochi da tavolo",
          "Giochi e quiz",
          "Guide turistiche",
          "Imbottiture",
          "Kit per irrigazione a goccia",
          "Lampadine a LED",
          "Lampadine alogene",
          "Lampadine fluorescenti compatte",
          "Letteratura e narrativa",
          "Letteratura mondiale",
          "Luci di sicurezza",
          "Matematica",
          "Medicina e scienze sanitarie",
          "Moke e caffettiere",
          "Musica latina",
          "Narrativa contemporanea",
          "Narrativa di genere",
          "Narrativa letteraria",
          "Occhiali da lettura",
          "Opere illustrate",
          "Pesce e frutti di mare",
          "Piatti, ciotole e vassoi",
          "Pile monouso",
          "Pile ricaricabili",
          "Plastificatrici",
          "Pop Rock",
          "Posate",
          "Potenziamento muscolare",
          "Proiettori",
          "Prolunghe",
          "Pronto soccorso",
          "Racconti e antologie",
          "Rasatura manuale",
          "Ricambi e accessori per lavastoviglie",
          "Robot da cucina, frullatori e impastatrici",
          "Saggi e corrispondenza",
          "Salse da tavola e condimenti",
          "Scarpe",
          "Scarpe",
          "Scarpe",
          "Scienze e matematica",
          "Sedie a rotelle, scooter disabili e accessori",
          "Sesso sicuro e contraccezione",
          "Sport acquatici",
          "Spugne",
          "Staffe e supporti per mensole",
          "Storia dell'arte, teoria e critica",
          "Storia della letteratura e critica letteraria",
          "Strumenti di misura e layout",
          "Strumenti e accessori per trucco",
          "Strumenti per lo styling",
          "Strutture e processi politici",
          "Tastiere, Mouse e periferiche di input",
          "Tennis",
          "Testi di formazione e consultazione",
          "Testi di formazione e consultazione",
          "Thermos",
          "Tiro con l'arco",
          "Umanistica",
          "Utensili a mano",
          "Viso",
          "Zaini",
          "Accessori",
          "Accessori di alimentazione elettrica",
          "Accessori e parti di ricambio",
          "Accessori e strumenti di bellezza",
          "Adolescenti e ragazzi",
          "Arte, cinema e fotografia",
          "Attività ricreative all'aperto",
          "Attrezzature per l'irrigazione automatica",
          "Audio e video portatile",
          "Ausili per la mobilità e vita quotidiana",
          "Bambini e ragazzi",
          "Biografie, diari e memorie",
          "Birra, vino e alcolici",
          "Cellulari e accessori",
          "Cibi in scatola e conserve",
          "Contenitori e barattoli",
          "Cuffie, auricolari e accessori",
          "Cura dei capelli",
          "Cura della pelle",
          "Cura della vista",
          "Dance ed Elettronica",
          "Detergenti e prodotti per la pulizia",
          "Dispositivi archiviazione dati",
          "Distributori d'acqua, caraffe filtranti e cartucce",
          "Donna",
          "Elettrodomestici per la cucina",
          "Elettronica per ufficio",
          "Elettronica per veicoli",
          "Erotismo e contraccezione",
          "Ferramenta",
          "Fitness e palestra",
          "Foto e videocamere",
          "Giocattoli da collezione",
          "Giochi da tavola, di società e accessori",
          "Home Cinema, TV e video",
          "Igiene dentale",
          "Igiene intima",
          "Illuminazione per esterni",
          "Indie e Alternativa",
          "Lampadine",
          "Letteratura e narrativa",
          "Libri per bambini",
          "Libri universitari",
          "Materiale elettrico",
          "Musica internazionale",
          "PC",
          "Pile e caricabatterie",
          "Politica",
          "Pop",
          "Prodotti per la medicazione",
          "Rasatura, epilazione e rimozione peli",
          "Religione",
          "Salse e sughi",
          "Scienze, tecnologia e medicina",
          "Sicurezza e protezione",
          "Società e scienze sociali",
          "Sport",
          "Sport",
          "Tempo libero",
          "Tessili per la casa",
          "Tè e caffè",
          "Uomo",
          "Utensili elettrici e a mano",
          "Valigie, borse e accessori da viaggio",
          "Vasellame",
          "Veicoli",
          "Viaggi",
          "Alimentari e cura della casa",
          "Attrezzature per l'irrigazione",
          "Bellezza",
          "CD e Vinili",
          "Cancelleria e prodotti per ufficio",
          "Casa e cucina",
          "Elettronica",
          "Fai da te",
          "Giochi e giocattoli",
          "Grandi elettrodomestici",
          "Illuminazione",
          "Informatica",
          "Libri",
          "Moda",
          "Salute e cura della persona",
          "Sport e tempo libero",
          "Videogiochi"
         ],
         "name": "",
         "parents": [
          "Moda/Donna",
          "Moda/Uomo",
          "Elettronica/Audio e video portatile",
          "Elettronica/Cellulari e accessori",
          "Elettronica/Elettronica per veicoli",
          "Elettronica/Foto e videocamere",
          "Elettronica/Home Cinema, TV e video",
          "Casa e cucina/Tè e caffè",
          "Informatica/Accessori",
          "Informatica/Accessori",
          "Elettronica/Foto e videocamere",
          "Elettronica/Cuffie, auricolari e accessori",
          "Elettronica/Accessori di alimentazione elettrica",
          "CD e Vinili/Indie e Alternativa",
          "Libri/Società e scienze sociali",
          "Libri/Arte, cinema e fotografia",
          "Salute e cura della persona/Igiene intima",
          "Libri/Scienze, tecnologia e medicina",
          "Fai da te/Sicurezza e protezione",
          "Giochi e giocattoli/Veicoli",
          "Libri/Letteratura e narrativa",
          "Casa e cucina/Tessili per la casa",
          "Casa e cucina/Vasellame",
          "Libri/Biografie, diari e memorie",
          "Alimentari e cura della casa/Birra, vino e alcolici",
          "Sport e tempo libero/Attività ricreative all'aperto",
          "Casa e cucina/Distributori d'acqua, caraffe filtranti e cartucce",
          "Casa e cucina/Distributori d'acqua, caraffe filtranti e cartucce",
          "Informatica/Accessori",
          "Elettronica/Cellulari e accessori",
          "Libri/Letteratura e narrativa",
          "Salute e cura della persona/Igiene dentale",
          "Libri/Religione",
          "Libri/Tempo libero",
          "Salute e cura della persona/Igiene dentale",
          "Salute e cura della persona/Igiene dentale",
          "Salute e cura della persona/Igiene intima",
          "Informatica/Dispositivi archiviazione dati",
          "CD e Vinili/Dance ed Elettronica",
          "Giochi e giocattoli/Giocattoli da collezione",
          "Libri/Tempo libero",
          "Libri/Adolescenti e ragazzi",
          "Libri/Arte, cinema e fotografia",
          "Libri/Arte, cinema e fotografia",
          "Fai da te/Materiale elettrico",
          "Libri/Tempo libero",
          "Videogiochi/PC",
          "Giochi e giocattoli/Giochi da tavola, di società e accessori",
          "Libri/Tempo libero",
          "Libri/Viaggi",
          "Elettronica/Cuffie, auricolari e accessori",
          "Attrezzature per l'irrigazione/Attrezzature per l'irrigazione automatica",
          "Illuminazione/Lampadine",
          "Illuminazione/Lampadine",
          "Illuminazione/Lampadine",
          "Libri/Libri per bambini",
          "Libri/Letteratura e narrativa",
          "Illuminazione/Illuminazione per esterni",
          "Libri/Scienze, tecnologia e medicina",
          "Libri/Libri universitari",
          "Casa e cucina/Tè e caffè",
          "CD e Vinili/Musica internazionale",
          "Libri/Letteratura e narrativa",
          "Libri/Letteratura e narrativa",
          "Libri/Letteratura e narrativa",
          "Salute e cura della persona/Cura della vista",
          "Libri/Viaggi",
          "Alimentari e cura della casa/Cibi in scatola e conserve",
          "Casa e cucina/Vasellame",
          "Elettronica/Pile e caricabatterie",
          "Elettronica/Pile e caricabatterie",
          "Cancelleria e prodotti per ufficio/Elettronica per ufficio",
          "CD e Vinili/Pop",
          "Casa e cucina/Vasellame",
          "Sport e tempo libero/Fitness e palestra",
          "Elettronica/Home Cinema, TV e video",
          "Elettronica/Accessori di alimentazione elettrica",
          "Salute e cura della persona/Prodotti per la medicazione",
          "Libri/Letteratura e narrativa",
          "Salute e cura della persona/Rasatura, epilazione e rimozione peli",
          "Grandi elettrodomestici/Accessori e parti di ricambio",
          "Casa e cucina/Elettrodomestici per la cucina",
          "Libri/Letteratura e narrativa",
          "Alimentari e cura della casa/Salse e sughi",
          "Moda/Bambini e ragazzi",
          "Moda/Donna",
          "Moda/Uomo",
          "Libri/Libri universitari",
          "Salute e cura della persona/Ausili per la mobilità e vita quotidiana",
          "Salute e cura della persona/Erotismo e contraccezione",
          "Sport e tempo libero/Sport",
          "Casa e cucina/Detergenti e prodotti per la pulizia",
          "Fai da te/Ferramenta",
          "Libri/Arte, cinema e fotografia",
          "Libri/Letteratura e narrativa",
          "Fai da te/Utensili elettrici e a mano",
          "Bellezza/Accessori e strumenti di bellezza",
          "Bellezza/Cura dei capelli",
          "Libri/Politica",
          "Informatica/Accessori",
          "Libri/Sport",
          "Libri/Adolescenti e ragazzi",
          "Libri/Libri per bambini",
          "Casa e cucina/Contenitori e barattoli",
          "Sport e tempo libero/Sport",
          "Libri/Libri universitari",
          "Fai da te/Utensili elettrici e a mano",
          "Bellezza/Cura della pelle",
          "Moda/Valigie, borse e accessori da viaggio",
          "Informatica",
          "Elettronica",
          "Grandi elettrodomestici",
          "Bellezza",
          "Libri",
          "Libri",
          "Sport e tempo libero",
          "Attrezzature per l'irrigazione",
          "Elettronica",
          "Salute e cura della persona",
          "Moda",
          "Libri",
          "Alimentari e cura della casa",
          "Elettronica",
          "Alimentari e cura della casa",
          "Casa e cucina",
          "Elettronica",
          "Bellezza",
          "Bellezza",
          "Salute e cura della persona",
          "CD e Vinili",
          "Casa e cucina",
          "Informatica",
          "Casa e cucina",
          "Moda",
          "Casa e cucina",
          "Cancelleria e prodotti per ufficio",
          "Elettronica",
          "Salute e cura della persona",
          "Fai da te",
          "Sport e tempo libero",
          "Elettronica",
          "Giochi e giocattoli",
          "Giochi e giocattoli",
          "Elettronica",
          "Salute e cura della persona",
          "Salute e cura della persona",
          "Illuminazione",
          "CD e Vinili",
          "Illuminazione",
          "Libri",
          "Libri",
          "Libri",
          "Fai da te",
          "CD e Vinili",
          "Videogiochi",
          "Elettronica",
          "Libri",
          "CD e Vinili",
          "Salute e cura della persona",
          "Salute e cura della persona",
          "Libri",
          "Alimentari e cura della casa",
          "Libri",
          "Fai da te",
          "Libri",
          "Libri",
          "Sport e tempo libero",
          "Libri",
          "Casa e cucina",
          "Casa e cucina",
          "Moda",
          "Fai da te",
          "Moda",
          "Casa e cucina",
          "Giochi e giocattoli",
          "Libri",
          "",
          "",
          "",
          "",
          "",
          "",
          "",
          "",
          "",
          "",
          "",
          "",
          "",
          "",
          "",
          "",
          ""
         ],
         "textfont": {
          "size": 20
         },
         "type": "treemap",
         "values": [
          1,
          2,
          2,
          6,
          1,
          5,
          3,
          1,
          2,
          1,
          1,
          2,
          2,
          1,
          1,
          4,
          1,
          1,
          1,
          1,
          2,
          1,
          3,
          2,
          4,
          1,
          2,
          1,
          4,
          4,
          1,
          1,
          2,
          1,
          1,
          2,
          1,
          4,
          1,
          1,
          1,
          1,
          5,
          4,
          1,
          1,
          2,
          1,
          1,
          4,
          1,
          1,
          1,
          1,
          2,
          3,
          1,
          1,
          1,
          1,
          2,
          1,
          12,
          4,
          1,
          2,
          1,
          2,
          1,
          3,
          2,
          1,
          1,
          2,
          2,
          1,
          1,
          2,
          1,
          1,
          1,
          1,
          3,
          1,
          1,
          1,
          4,
          2,
          1,
          2,
          2,
          1,
          1,
          2,
          2,
          1,
          1,
          1,
          1,
          1,
          1,
          1,
          1,
          1,
          1,
          4,
          2,
          2,
          1,
          8,
          3,
          1,
          1,
          2,
          15,
          1,
          1,
          2,
          1,
          1,
          2,
          4,
          10,
          2,
          1,
          3,
          1,
          2,
          2,
          1,
          1,
          4,
          3,
          2,
          1,
          1,
          1,
          2,
          1,
          2,
          6,
          1,
          1,
          4,
          4,
          2,
          1,
          1,
          4,
          27,
          4,
          7,
          1,
          1,
          2,
          5,
          1,
          1,
          2,
          1,
          2,
          1,
          2,
          1,
          1,
          1,
          3,
          4,
          1,
          3,
          6,
          3,
          1,
          6,
          1,
          5,
          7,
          1,
          4,
          4,
          1,
          16,
          34,
          6,
          3,
          1,
          5,
          12,
          73,
          10,
          14,
          6,
          2
         ]
        }
       ],
       "layout": {
        "autosize": true,
        "legend": {
         "tracegroupgap": 0
        },
        "template": {
         "data": {
          "bar": [
           {
            "error_x": {
             "color": "#2a3f5f"
            },
            "error_y": {
             "color": "#2a3f5f"
            },
            "marker": {
             "line": {
              "color": "#E5ECF6",
              "width": 0.5
             },
             "pattern": {
              "fillmode": "overlay",
              "size": 10,
              "solidity": 0.2
             }
            },
            "type": "bar"
           }
          ],
          "barpolar": [
           {
            "marker": {
             "line": {
              "color": "#E5ECF6",
              "width": 0.5
             },
             "pattern": {
              "fillmode": "overlay",
              "size": 10,
              "solidity": 0.2
             }
            },
            "type": "barpolar"
           }
          ],
          "carpet": [
           {
            "aaxis": {
             "endlinecolor": "#2a3f5f",
             "gridcolor": "white",
             "linecolor": "white",
             "minorgridcolor": "white",
             "startlinecolor": "#2a3f5f"
            },
            "baxis": {
             "endlinecolor": "#2a3f5f",
             "gridcolor": "white",
             "linecolor": "white",
             "minorgridcolor": "white",
             "startlinecolor": "#2a3f5f"
            },
            "type": "carpet"
           }
          ],
          "choropleth": [
           {
            "colorbar": {
             "outlinewidth": 0,
             "ticks": ""
            },
            "type": "choropleth"
           }
          ],
          "contour": [
           {
            "colorbar": {
             "outlinewidth": 0,
             "ticks": ""
            },
            "colorscale": [
             [
              0,
              "#0d0887"
             ],
             [
              0.1111111111111111,
              "#46039f"
             ],
             [
              0.2222222222222222,
              "#7201a8"
             ],
             [
              0.3333333333333333,
              "#9c179e"
             ],
             [
              0.4444444444444444,
              "#bd3786"
             ],
             [
              0.5555555555555556,
              "#d8576b"
             ],
             [
              0.6666666666666666,
              "#ed7953"
             ],
             [
              0.7777777777777778,
              "#fb9f3a"
             ],
             [
              0.8888888888888888,
              "#fdca26"
             ],
             [
              1,
              "#f0f921"
             ]
            ],
            "type": "contour"
           }
          ],
          "contourcarpet": [
           {
            "colorbar": {
             "outlinewidth": 0,
             "ticks": ""
            },
            "type": "contourcarpet"
           }
          ],
          "heatmap": [
           {
            "colorbar": {
             "outlinewidth": 0,
             "ticks": ""
            },
            "colorscale": [
             [
              0,
              "#0d0887"
             ],
             [
              0.1111111111111111,
              "#46039f"
             ],
             [
              0.2222222222222222,
              "#7201a8"
             ],
             [
              0.3333333333333333,
              "#9c179e"
             ],
             [
              0.4444444444444444,
              "#bd3786"
             ],
             [
              0.5555555555555556,
              "#d8576b"
             ],
             [
              0.6666666666666666,
              "#ed7953"
             ],
             [
              0.7777777777777778,
              "#fb9f3a"
             ],
             [
              0.8888888888888888,
              "#fdca26"
             ],
             [
              1,
              "#f0f921"
             ]
            ],
            "type": "heatmap"
           }
          ],
          "heatmapgl": [
           {
            "colorbar": {
             "outlinewidth": 0,
             "ticks": ""
            },
            "colorscale": [
             [
              0,
              "#0d0887"
             ],
             [
              0.1111111111111111,
              "#46039f"
             ],
             [
              0.2222222222222222,
              "#7201a8"
             ],
             [
              0.3333333333333333,
              "#9c179e"
             ],
             [
              0.4444444444444444,
              "#bd3786"
             ],
             [
              0.5555555555555556,
              "#d8576b"
             ],
             [
              0.6666666666666666,
              "#ed7953"
             ],
             [
              0.7777777777777778,
              "#fb9f3a"
             ],
             [
              0.8888888888888888,
              "#fdca26"
             ],
             [
              1,
              "#f0f921"
             ]
            ],
            "type": "heatmapgl"
           }
          ],
          "histogram": [
           {
            "marker": {
             "pattern": {
              "fillmode": "overlay",
              "size": 10,
              "solidity": 0.2
             }
            },
            "type": "histogram"
           }
          ],
          "histogram2d": [
           {
            "colorbar": {
             "outlinewidth": 0,
             "ticks": ""
            },
            "colorscale": [
             [
              0,
              "#0d0887"
             ],
             [
              0.1111111111111111,
              "#46039f"
             ],
             [
              0.2222222222222222,
              "#7201a8"
             ],
             [
              0.3333333333333333,
              "#9c179e"
             ],
             [
              0.4444444444444444,
              "#bd3786"
             ],
             [
              0.5555555555555556,
              "#d8576b"
             ],
             [
              0.6666666666666666,
              "#ed7953"
             ],
             [
              0.7777777777777778,
              "#fb9f3a"
             ],
             [
              0.8888888888888888,
              "#fdca26"
             ],
             [
              1,
              "#f0f921"
             ]
            ],
            "type": "histogram2d"
           }
          ],
          "histogram2dcontour": [
           {
            "colorbar": {
             "outlinewidth": 0,
             "ticks": ""
            },
            "colorscale": [
             [
              0,
              "#0d0887"
             ],
             [
              0.1111111111111111,
              "#46039f"
             ],
             [
              0.2222222222222222,
              "#7201a8"
             ],
             [
              0.3333333333333333,
              "#9c179e"
             ],
             [
              0.4444444444444444,
              "#bd3786"
             ],
             [
              0.5555555555555556,
              "#d8576b"
             ],
             [
              0.6666666666666666,
              "#ed7953"
             ],
             [
              0.7777777777777778,
              "#fb9f3a"
             ],
             [
              0.8888888888888888,
              "#fdca26"
             ],
             [
              1,
              "#f0f921"
             ]
            ],
            "type": "histogram2dcontour"
           }
          ],
          "mesh3d": [
           {
            "colorbar": {
             "outlinewidth": 0,
             "ticks": ""
            },
            "type": "mesh3d"
           }
          ],
          "parcoords": [
           {
            "line": {
             "colorbar": {
              "outlinewidth": 0,
              "ticks": ""
             }
            },
            "type": "parcoords"
           }
          ],
          "pie": [
           {
            "automargin": true,
            "type": "pie"
           }
          ],
          "scatter": [
           {
            "fillpattern": {
             "fillmode": "overlay",
             "size": 10,
             "solidity": 0.2
            },
            "type": "scatter"
           }
          ],
          "scatter3d": [
           {
            "line": {
             "colorbar": {
              "outlinewidth": 0,
              "ticks": ""
             }
            },
            "marker": {
             "colorbar": {
              "outlinewidth": 0,
              "ticks": ""
             }
            },
            "type": "scatter3d"
           }
          ],
          "scattercarpet": [
           {
            "marker": {
             "colorbar": {
              "outlinewidth": 0,
              "ticks": ""
             }
            },
            "type": "scattercarpet"
           }
          ],
          "scattergeo": [
           {
            "marker": {
             "colorbar": {
              "outlinewidth": 0,
              "ticks": ""
             }
            },
            "type": "scattergeo"
           }
          ],
          "scattergl": [
           {
            "marker": {
             "colorbar": {
              "outlinewidth": 0,
              "ticks": ""
             }
            },
            "type": "scattergl"
           }
          ],
          "scattermapbox": [
           {
            "marker": {
             "colorbar": {
              "outlinewidth": 0,
              "ticks": ""
             }
            },
            "type": "scattermapbox"
           }
          ],
          "scatterpolar": [
           {
            "marker": {
             "colorbar": {
              "outlinewidth": 0,
              "ticks": ""
             }
            },
            "type": "scatterpolar"
           }
          ],
          "scatterpolargl": [
           {
            "marker": {
             "colorbar": {
              "outlinewidth": 0,
              "ticks": ""
             }
            },
            "type": "scatterpolargl"
           }
          ],
          "scatterternary": [
           {
            "marker": {
             "colorbar": {
              "outlinewidth": 0,
              "ticks": ""
             }
            },
            "type": "scatterternary"
           }
          ],
          "surface": [
           {
            "colorbar": {
             "outlinewidth": 0,
             "ticks": ""
            },
            "colorscale": [
             [
              0,
              "#0d0887"
             ],
             [
              0.1111111111111111,
              "#46039f"
             ],
             [
              0.2222222222222222,
              "#7201a8"
             ],
             [
              0.3333333333333333,
              "#9c179e"
             ],
             [
              0.4444444444444444,
              "#bd3786"
             ],
             [
              0.5555555555555556,
              "#d8576b"
             ],
             [
              0.6666666666666666,
              "#ed7953"
             ],
             [
              0.7777777777777778,
              "#fb9f3a"
             ],
             [
              0.8888888888888888,
              "#fdca26"
             ],
             [
              1,
              "#f0f921"
             ]
            ],
            "type": "surface"
           }
          ],
          "table": [
           {
            "cells": {
             "fill": {
              "color": "#EBF0F8"
             },
             "line": {
              "color": "white"
             }
            },
            "header": {
             "fill": {
              "color": "#C8D4E3"
             },
             "line": {
              "color": "white"
             }
            },
            "type": "table"
           }
          ]
         },
         "layout": {
          "annotationdefaults": {
           "arrowcolor": "#2a3f5f",
           "arrowhead": 0,
           "arrowwidth": 1
          },
          "autotypenumbers": "strict",
          "coloraxis": {
           "colorbar": {
            "outlinewidth": 0,
            "ticks": ""
           }
          },
          "colorscale": {
           "diverging": [
            [
             0,
             "#8e0152"
            ],
            [
             0.1,
             "#c51b7d"
            ],
            [
             0.2,
             "#de77ae"
            ],
            [
             0.3,
             "#f1b6da"
            ],
            [
             0.4,
             "#fde0ef"
            ],
            [
             0.5,
             "#f7f7f7"
            ],
            [
             0.6,
             "#e6f5d0"
            ],
            [
             0.7,
             "#b8e186"
            ],
            [
             0.8,
             "#7fbc41"
            ],
            [
             0.9,
             "#4d9221"
            ],
            [
             1,
             "#276419"
            ]
           ],
           "sequential": [
            [
             0,
             "#0d0887"
            ],
            [
             0.1111111111111111,
             "#46039f"
            ],
            [
             0.2222222222222222,
             "#7201a8"
            ],
            [
             0.3333333333333333,
             "#9c179e"
            ],
            [
             0.4444444444444444,
             "#bd3786"
            ],
            [
             0.5555555555555556,
             "#d8576b"
            ],
            [
             0.6666666666666666,
             "#ed7953"
            ],
            [
             0.7777777777777778,
             "#fb9f3a"
            ],
            [
             0.8888888888888888,
             "#fdca26"
            ],
            [
             1,
             "#f0f921"
            ]
           ],
           "sequentialminus": [
            [
             0,
             "#0d0887"
            ],
            [
             0.1111111111111111,
             "#46039f"
            ],
            [
             0.2222222222222222,
             "#7201a8"
            ],
            [
             0.3333333333333333,
             "#9c179e"
            ],
            [
             0.4444444444444444,
             "#bd3786"
            ],
            [
             0.5555555555555556,
             "#d8576b"
            ],
            [
             0.6666666666666666,
             "#ed7953"
            ],
            [
             0.7777777777777778,
             "#fb9f3a"
            ],
            [
             0.8888888888888888,
             "#fdca26"
            ],
            [
             1,
             "#f0f921"
            ]
           ]
          },
          "colorway": [
           "#636efa",
           "#EF553B",
           "#00cc96",
           "#ab63fa",
           "#FFA15A",
           "#19d3f3",
           "#FF6692",
           "#B6E880",
           "#FF97FF",
           "#FECB52"
          ],
          "font": {
           "color": "#2a3f5f"
          },
          "geo": {
           "bgcolor": "white",
           "lakecolor": "white",
           "landcolor": "#E5ECF6",
           "showlakes": true,
           "showland": true,
           "subunitcolor": "white"
          },
          "hoverlabel": {
           "align": "left"
          },
          "hovermode": "closest",
          "mapbox": {
           "style": "light"
          },
          "paper_bgcolor": "white",
          "plot_bgcolor": "#E5ECF6",
          "polar": {
           "angularaxis": {
            "gridcolor": "white",
            "linecolor": "white",
            "ticks": ""
           },
           "bgcolor": "#E5ECF6",
           "radialaxis": {
            "gridcolor": "white",
            "linecolor": "white",
            "ticks": ""
           }
          },
          "scene": {
           "xaxis": {
            "backgroundcolor": "#E5ECF6",
            "gridcolor": "white",
            "gridwidth": 2,
            "linecolor": "white",
            "showbackground": true,
            "ticks": "",
            "zerolinecolor": "white"
           },
           "yaxis": {
            "backgroundcolor": "#E5ECF6",
            "gridcolor": "white",
            "gridwidth": 2,
            "linecolor": "white",
            "showbackground": true,
            "ticks": "",
            "zerolinecolor": "white"
           },
           "zaxis": {
            "backgroundcolor": "#E5ECF6",
            "gridcolor": "white",
            "gridwidth": 2,
            "linecolor": "white",
            "showbackground": true,
            "ticks": "",
            "zerolinecolor": "white"
           }
          },
          "shapedefaults": {
           "line": {
            "color": "#2a3f5f"
           }
          },
          "ternary": {
           "aaxis": {
            "gridcolor": "white",
            "linecolor": "white",
            "ticks": ""
           },
           "baxis": {
            "gridcolor": "white",
            "linecolor": "white",
            "ticks": ""
           },
           "bgcolor": "#E5ECF6",
           "caxis": {
            "gridcolor": "white",
            "linecolor": "white",
            "ticks": ""
           }
          },
          "title": {
           "x": 0.05
          },
          "xaxis": {
           "automargin": true,
           "gridcolor": "white",
           "linecolor": "white",
           "ticks": "",
           "title": {
            "standoff": 15
           },
           "zerolinecolor": "white",
           "zerolinewidth": 2
          },
          "yaxis": {
           "automargin": true,
           "gridcolor": "white",
           "linecolor": "white",
           "ticks": "",
           "title": {
            "standoff": 15
           },
           "zerolinecolor": "white",
           "zerolinewidth": 2
          }
         }
        },
        "title": {
         "text": "The physical stores that have seen you the least in recent years"
        },
        "treemapcolorway": [
         "DarkOrange",
         "MidnightBlue",
         "Black",
         "DodgerBlue",
         "SteelBlue",
         "WhiteSmoke",
         "DarkSlateGray",
         "LightGray"
        ]
       }
      },
      "image/png": "[encoded data removed]",
      "text/html": [
       "<div>                            <div id=\"f9f739fc-f119-4cf7-b051-2a95da23973c\" class=\"plotly-graph-div\" style=\"height:525px; width:100%;\"></div>            <script type=\"text/javascript\">                require([\"plotly\"], function(Plotly) {                    window.PLOTLYENV=window.PLOTLYENV || {};                                    if (document.getElementById(\"f9f739fc-f119-4cf7-b051-2a95da23973c\")) {                    Plotly.newPlot(                        \"f9f739fc-f119-4cf7-b051-2a95da23973c\",                        [{\"branchvalues\":\"total\",\"domain\":{\"x\":[0.0,1.0],\"y\":[0.0,1.0]},\"hovertemplate\":\"labels=%{label}<br>count=%{value}<br>parent=%{parent}<br>id=%{id}<extra></extra>\",\"ids\":[\"Moda/Donna/Abbigliamento\",\"Moda/Uomo/Abbigliamento\",\"Elettronica/Audio e video portatile/Accessori\",\"Elettronica/Cellulari e accessori/Accessori\",\"Elettronica/Elettronica per veicoli/Accessori\",\"Elettronica/Foto e videocamere/Accessori\",\"Elettronica/Home Cinema, TV e video/Accessori\",\"Casa e cucina/T\\u00e8 e caff\\u00e8/Accessori da t\\u00e8\",\"Informatica/Accessori/Accessori per PC portatili\",\"Informatica/Accessori/Accessori per Tablet PC\",\"Elettronica/Foto e videocamere/Action camera\",\"Elettronica/Cuffie, auricolari e accessori/Adattatori\",\"Elettronica/Accessori di alimentazione elettrica/Adattatori da viaggio\",\"CD e Vinili/Indie e Alternativa/Alternative Rock\",\"Libri/Societ\\u00e0 e scienze sociali/Antropologia\",\"Libri/Arte, cinema e fotografia/Architettura\",\"Salute e cura della persona/Igiene intima/Assorbenti esterni\",\"Libri/Scienze, tecnologia e medicina/Astronomia\",\"Fai da te/Sicurezza e protezione/Attrezzature per sicurezza sul lavoro\",\"Giochi e giocattoli/Veicoli/Auto e auto da corsa\",\"Libri/Letteratura e narrativa/Azione e avventura\",\"Casa e cucina/Tessili per la casa/Biancheria da letto\",\"Casa e cucina/Vasellame/Bicchieri e cristalli\",\"Libri/Biografie, diari e memorie/Biografie e autobiografie\",\"Alimentari e cura della casa/Birra, vino e alcolici/Birra\",\"Sport e tempo libero/Attivit\\u00e0 ricreative all'aperto/Camping e outdoor\",\"Casa e cucina/Distributori d'acqua, caraffe filtranti e cartucce/Caraffe Filtranti\",\"Casa e cucina/Distributori d'acqua, caraffe filtranti e cartucce/Cartucce\",\"Informatica/Accessori/Cavi e accessori\",\"Elettronica/Cellulari e accessori/Cellulari e Smartphone\",\"Libri/Letteratura e narrativa/Classici\",\"Salute e cura della persona/Igiene dentale/Collutori\",\"Libri/Religione/Cristianesimo\",\"Libri/Tempo libero/Cucina\",\"Salute e cura della persona/Igiene dentale/Cura dentale neonati e bambini\",\"Salute e cura della persona/Igiene dentale/Dentifrici\",\"Salute e cura della persona/Igiene intima/Detergenti intimi\",\"Informatica/Dispositivi archiviazione dati/Dispositivi archiviazione dati esterni\",\"CD e Vinili/Dance ed Elettronica/Elettronica\",\"Giochi e giocattoli/Giocattoli da collezione/Espositori e raccoglitori\",\"Libri/Tempo libero/Fai da te e arti decorative\",\"Libri/Adolescenti e ragazzi/Fantascienza e fantasy\",\"Libri/Arte, cinema e fotografia/Film\",\"Libri/Arte, cinema e fotografia/Fotografia\",\"Fai da te/Materiale elettrico/Gestione del cavo\",\"Libri/Tempo libero/Giardinaggio\",\"Videogiochi/PC/Giochi\",\"Giochi e giocattoli/Giochi da tavola, di societ\\u00e0 e accessori/Giochi da tavolo\",\"Libri/Tempo libero/Giochi e quiz\",\"Libri/Viaggi/Guide turistiche\",\"Elettronica/Cuffie, auricolari e accessori/Imbottiture\",\"Attrezzature per l'irrigazione/Attrezzature per l'irrigazione automatica/Kit per irrigazione a goccia\",\"Illuminazione/Lampadine/Lampadine a LED\",\"Illuminazione/Lampadine/Lampadine alogene\",\"Illuminazione/Lampadine/Lampadine fluorescenti compatte\",\"Libri/Libri per bambini/Letteratura e narrativa\",\"Libri/Letteratura e narrativa/Letteratura mondiale\",\"Illuminazione/Illuminazione per esterni/Luci di sicurezza\",\"Libri/Scienze, tecnologia e medicina/Matematica\",\"Libri/Libri universitari/Medicina e scienze sanitarie\",\"Casa e cucina/T\\u00e8 e caff\\u00e8/Moke e caffettiere\",\"CD e Vinili/Musica internazionale/Musica latina\",\"Libri/Letteratura e narrativa/Narrativa contemporanea\",\"Libri/Letteratura e narrativa/Narrativa di genere\",\"Libri/Letteratura e narrativa/Narrativa letteraria\",\"Salute e cura della persona/Cura della vista/Occhiali da lettura\",\"Libri/Viaggi/Opere illustrate\",\"Alimentari e cura della casa/Cibi in scatola e conserve/Pesce e frutti di mare\",\"Casa e cucina/Vasellame/Piatti, ciotole e vassoi\",\"Elettronica/Pile e caricabatterie/Pile monouso\",\"Elettronica/Pile e caricabatterie/Pile ricaricabili\",\"Cancelleria e prodotti per ufficio/Elettronica per ufficio/Plastificatrici\",\"CD e Vinili/Pop/Pop Rock\",\"Casa e cucina/Vasellame/Posate\",\"Sport e tempo libero/Fitness e palestra/Potenziamento muscolare\",\"Elettronica/Home Cinema, TV e video/Proiettori\",\"Elettronica/Accessori di alimentazione elettrica/Prolunghe\",\"Salute e cura della persona/Prodotti per la medicazione/Pronto soccorso\",\"Libri/Letteratura e narrativa/Racconti e antologie\",\"Salute e cura della persona/Rasatura, epilazione e rimozione peli/Rasatura manuale\",\"Grandi elettrodomestici/Accessori e parti di ricambio/Ricambi e accessori per lavastoviglie\",\"Casa e cucina/Elettrodomestici per la cucina/Robot da cucina, frullatori e impastatrici\",\"Libri/Letteratura e narrativa/Saggi e corrispondenza\",\"Alimentari e cura della casa/Salse e sughi/Salse da tavola e condimenti\",\"Moda/Bambini e ragazzi/Scarpe\",\"Moda/Donna/Scarpe\",\"Moda/Uomo/Scarpe\",\"Libri/Libri universitari/Scienze e matematica\",\"Salute e cura della persona/Ausili per la mobilit\\u00e0 e vita quotidiana/Sedie a rotelle, scooter disabili e accessori\",\"Salute e cura della persona/Erotismo e contraccezione/Sesso sicuro e contraccezione\",\"Sport e tempo libero/Sport/Sport acquatici\",\"Casa e cucina/Detergenti e prodotti per la pulizia/Spugne\",\"Fai da te/Ferramenta/Staffe e supporti per mensole\",\"Libri/Arte, cinema e fotografia/Storia dell'arte, teoria e critica\",\"Libri/Letteratura e narrativa/Storia della letteratura e critica letteraria\",\"Fai da te/Utensili elettrici e a mano/Strumenti di misura e layout\",\"Bellezza/Accessori e strumenti di bellezza/Strumenti e accessori per trucco\",\"Bellezza/Cura dei capelli/Strumenti per lo styling\",\"Libri/Politica/Strutture e processi politici\",\"Informatica/Accessori/Tastiere, Mouse e periferiche di input\",\"Libri/Sport/Tennis\",\"Libri/Adolescenti e ragazzi/Testi di formazione e consultazione\",\"Libri/Libri per bambini/Testi di formazione e consultazione\",\"Casa e cucina/Contenitori e barattoli/Thermos\",\"Sport e tempo libero/Sport/Tiro con l'arco\",\"Libri/Libri universitari/Umanistica\",\"Fai da te/Utensili elettrici e a mano/Utensili a mano\",\"Bellezza/Cura della pelle/Viso\",\"Moda/Valigie, borse e accessori da viaggio/Zaini\",\"Informatica/Accessori\",\"Elettronica/Accessori di alimentazione elettrica\",\"Grandi elettrodomestici/Accessori e parti di ricambio\",\"Bellezza/Accessori e strumenti di bellezza\",\"Libri/Adolescenti e ragazzi\",\"Libri/Arte, cinema e fotografia\",\"Sport e tempo libero/Attivit\\u00e0 ricreative all'aperto\",\"Attrezzature per l'irrigazione/Attrezzature per l'irrigazione automatica\",\"Elettronica/Audio e video portatile\",\"Salute e cura della persona/Ausili per la mobilit\\u00e0 e vita quotidiana\",\"Moda/Bambini e ragazzi\",\"Libri/Biografie, diari e memorie\",\"Alimentari e cura della casa/Birra, vino e alcolici\",\"Elettronica/Cellulari e accessori\",\"Alimentari e cura della casa/Cibi in scatola e conserve\",\"Casa e cucina/Contenitori e barattoli\",\"Elettronica/Cuffie, auricolari e accessori\",\"Bellezza/Cura dei capelli\",\"Bellezza/Cura della pelle\",\"Salute e cura della persona/Cura della vista\",\"CD e Vinili/Dance ed Elettronica\",\"Casa e cucina/Detergenti e prodotti per la pulizia\",\"Informatica/Dispositivi archiviazione dati\",\"Casa e cucina/Distributori d'acqua, caraffe filtranti e cartucce\",\"Moda/Donna\",\"Casa e cucina/Elettrodomestici per la cucina\",\"Cancelleria e prodotti per ufficio/Elettronica per ufficio\",\"Elettronica/Elettronica per veicoli\",\"Salute e cura della persona/Erotismo e contraccezione\",\"Fai da te/Ferramenta\",\"Sport e tempo libero/Fitness e palestra\",\"Elettronica/Foto e videocamere\",\"Giochi e giocattoli/Giocattoli da collezione\",\"Giochi e giocattoli/Giochi da tavola, di societ\\u00e0 e accessori\",\"Elettronica/Home Cinema, TV e video\",\"Salute e cura della persona/Igiene dentale\",\"Salute e cura della persona/Igiene intima\",\"Illuminazione/Illuminazione per esterni\",\"CD e Vinili/Indie e Alternativa\",\"Illuminazione/Lampadine\",\"Libri/Letteratura e narrativa\",\"Libri/Libri per bambini\",\"Libri/Libri universitari\",\"Fai da te/Materiale elettrico\",\"CD e Vinili/Musica internazionale\",\"Videogiochi/PC\",\"Elettronica/Pile e caricabatterie\",\"Libri/Politica\",\"CD e Vinili/Pop\",\"Salute e cura della persona/Prodotti per la medicazione\",\"Salute e cura della persona/Rasatura, epilazione e rimozione peli\",\"Libri/Religione\",\"Alimentari e cura della casa/Salse e sughi\",\"Libri/Scienze, tecnologia e medicina\",\"Fai da te/Sicurezza e protezione\",\"Libri/Societ\\u00e0 e scienze sociali\",\"Libri/Sport\",\"Sport e tempo libero/Sport\",\"Libri/Tempo libero\",\"Casa e cucina/Tessili per la casa\",\"Casa e cucina/T\\u00e8 e caff\\u00e8\",\"Moda/Uomo\",\"Fai da te/Utensili elettrici e a mano\",\"Moda/Valigie, borse e accessori da viaggio\",\"Casa e cucina/Vasellame\",\"Giochi e giocattoli/Veicoli\",\"Libri/Viaggi\",\"Alimentari e cura della casa\",\"Attrezzature per l'irrigazione\",\"Bellezza\",\"CD e Vinili\",\"Cancelleria e prodotti per ufficio\",\"Casa e cucina\",\"Elettronica\",\"Fai da te\",\"Giochi e giocattoli\",\"Grandi elettrodomestici\",\"Illuminazione\",\"Informatica\",\"Libri\",\"Moda\",\"Salute e cura della persona\",\"Sport e tempo libero\",\"Videogiochi\"],\"labels\":[\"Abbigliamento\",\"Abbigliamento\",\"Accessori\",\"Accessori\",\"Accessori\",\"Accessori\",\"Accessori\",\"Accessori da t\\u00e8\",\"Accessori per PC portatili\",\"Accessori per Tablet PC\",\"Action camera\",\"Adattatori\",\"Adattatori da viaggio\",\"Alternative Rock\",\"Antropologia\",\"Architettura\",\"Assorbenti esterni\",\"Astronomia\",\"Attrezzature per sicurezza sul lavoro\",\"Auto e auto da corsa\",\"Azione e avventura\",\"Biancheria da letto\",\"Bicchieri e cristalli\",\"Biografie e autobiografie\",\"Birra\",\"Camping e outdoor\",\"Caraffe Filtranti\",\"Cartucce\",\"Cavi e accessori\",\"Cellulari e Smartphone\",\"Classici\",\"Collutori\",\"Cristianesimo\",\"Cucina\",\"Cura dentale neonati e bambini\",\"Dentifrici\",\"Detergenti intimi\",\"Dispositivi archiviazione dati esterni\",\"Elettronica\",\"Espositori e raccoglitori\",\"Fai da te e arti decorative\",\"Fantascienza e fantasy\",\"Film\",\"Fotografia\",\"Gestione del cavo\",\"Giardinaggio\",\"Giochi\",\"Giochi da tavolo\",\"Giochi e quiz\",\"Guide turistiche\",\"Imbottiture\",\"Kit per irrigazione a goccia\",\"Lampadine a LED\",\"Lampadine alogene\",\"Lampadine fluorescenti compatte\",\"Letteratura e narrativa\",\"Letteratura mondiale\",\"Luci di sicurezza\",\"Matematica\",\"Medicina e scienze sanitarie\",\"Moke e caffettiere\",\"Musica latina\",\"Narrativa contemporanea\",\"Narrativa di genere\",\"Narrativa letteraria\",\"Occhiali da lettura\",\"Opere illustrate\",\"Pesce e frutti di mare\",\"Piatti, ciotole e vassoi\",\"Pile monouso\",\"Pile ricaricabili\",\"Plastificatrici\",\"Pop Rock\",\"Posate\",\"Potenziamento muscolare\",\"Proiettori\",\"Prolunghe\",\"Pronto soccorso\",\"Racconti e antologie\",\"Rasatura manuale\",\"Ricambi e accessori per lavastoviglie\",\"Robot da cucina, frullatori e impastatrici\",\"Saggi e corrispondenza\",\"Salse da tavola e condimenti\",\"Scarpe\",\"Scarpe\",\"Scarpe\",\"Scienze e matematica\",\"Sedie a rotelle, scooter disabili e accessori\",\"Sesso sicuro e contraccezione\",\"Sport acquatici\",\"Spugne\",\"Staffe e supporti per mensole\",\"Storia dell'arte, teoria e critica\",\"Storia della letteratura e critica letteraria\",\"Strumenti di misura e layout\",\"Strumenti e accessori per trucco\",\"Strumenti per lo styling\",\"Strutture e processi politici\",\"Tastiere, Mouse e periferiche di input\",\"Tennis\",\"Testi di formazione e consultazione\",\"Testi di formazione e consultazione\",\"Thermos\",\"Tiro con l'arco\",\"Umanistica\",\"Utensili a mano\",\"Viso\",\"Zaini\",\"Accessori\",\"Accessori di alimentazione elettrica\",\"Accessori e parti di ricambio\",\"Accessori e strumenti di bellezza\",\"Adolescenti e ragazzi\",\"Arte, cinema e fotografia\",\"Attivit\\u00e0 ricreative all'aperto\",\"Attrezzature per l'irrigazione automatica\",\"Audio e video portatile\",\"Ausili per la mobilit\\u00e0 e vita quotidiana\",\"Bambini e ragazzi\",\"Biografie, diari e memorie\",\"Birra, vino e alcolici\",\"Cellulari e accessori\",\"Cibi in scatola e conserve\",\"Contenitori e barattoli\",\"Cuffie, auricolari e accessori\",\"Cura dei capelli\",\"Cura della pelle\",\"Cura della vista\",\"Dance ed Elettronica\",\"Detergenti e prodotti per la pulizia\",\"Dispositivi archiviazione dati\",\"Distributori d'acqua, caraffe filtranti e cartucce\",\"Donna\",\"Elettrodomestici per la cucina\",\"Elettronica per ufficio\",\"Elettronica per veicoli\",\"Erotismo e contraccezione\",\"Ferramenta\",\"Fitness e palestra\",\"Foto e videocamere\",\"Giocattoli da collezione\",\"Giochi da tavola, di societ\\u00e0 e accessori\",\"Home Cinema, TV e video\",\"Igiene dentale\",\"Igiene intima\",\"Illuminazione per esterni\",\"Indie e Alternativa\",\"Lampadine\",\"Letteratura e narrativa\",\"Libri per bambini\",\"Libri universitari\",\"Materiale elettrico\",\"Musica internazionale\",\"PC\",\"Pile e caricabatterie\",\"Politica\",\"Pop\",\"Prodotti per la medicazione\",\"Rasatura, epilazione e rimozione peli\",\"Religione\",\"Salse e sughi\",\"Scienze, tecnologia e medicina\",\"Sicurezza e protezione\",\"Societ\\u00e0 e scienze sociali\",\"Sport\",\"Sport\",\"Tempo libero\",\"Tessili per la casa\",\"T\\u00e8 e caff\\u00e8\",\"Uomo\",\"Utensili elettrici e a mano\",\"Valigie, borse e accessori da viaggio\",\"Vasellame\",\"Veicoli\",\"Viaggi\",\"Alimentari e cura della casa\",\"Attrezzature per l'irrigazione\",\"Bellezza\",\"CD e Vinili\",\"Cancelleria e prodotti per ufficio\",\"Casa e cucina\",\"Elettronica\",\"Fai da te\",\"Giochi e giocattoli\",\"Grandi elettrodomestici\",\"Illuminazione\",\"Informatica\",\"Libri\",\"Moda\",\"Salute e cura della persona\",\"Sport e tempo libero\",\"Videogiochi\"],\"name\":\"\",\"parents\":[\"Moda/Donna\",\"Moda/Uomo\",\"Elettronica/Audio e video portatile\",\"Elettronica/Cellulari e accessori\",\"Elettronica/Elettronica per veicoli\",\"Elettronica/Foto e videocamere\",\"Elettronica/Home Cinema, TV e video\",\"Casa e cucina/T\\u00e8 e caff\\u00e8\",\"Informatica/Accessori\",\"Informatica/Accessori\",\"Elettronica/Foto e videocamere\",\"Elettronica/Cuffie, auricolari e accessori\",\"Elettronica/Accessori di alimentazione elettrica\",\"CD e Vinili/Indie e Alternativa\",\"Libri/Societ\\u00e0 e scienze sociali\",\"Libri/Arte, cinema e fotografia\",\"Salute e cura della persona/Igiene intima\",\"Libri/Scienze, tecnologia e medicina\",\"Fai da te/Sicurezza e protezione\",\"Giochi e giocattoli/Veicoli\",\"Libri/Letteratura e narrativa\",\"Casa e cucina/Tessili per la casa\",\"Casa e cucina/Vasellame\",\"Libri/Biografie, diari e memorie\",\"Alimentari e cura della casa/Birra, vino e alcolici\",\"Sport e tempo libero/Attivit\\u00e0 ricreative all'aperto\",\"Casa e cucina/Distributori d'acqua, caraffe filtranti e cartucce\",\"Casa e cucina/Distributori d'acqua, caraffe filtranti e cartucce\",\"Informatica/Accessori\",\"Elettronica/Cellulari e accessori\",\"Libri/Letteratura e narrativa\",\"Salute e cura della persona/Igiene dentale\",\"Libri/Religione\",\"Libri/Tempo libero\",\"Salute e cura della persona/Igiene dentale\",\"Salute e cura della persona/Igiene dentale\",\"Salute e cura della persona/Igiene intima\",\"Informatica/Dispositivi archiviazione dati\",\"CD e Vinili/Dance ed Elettronica\",\"Giochi e giocattoli/Giocattoli da collezione\",\"Libri/Tempo libero\",\"Libri/Adolescenti e ragazzi\",\"Libri/Arte, cinema e fotografia\",\"Libri/Arte, cinema e fotografia\",\"Fai da te/Materiale elettrico\",\"Libri/Tempo libero\",\"Videogiochi/PC\",\"Giochi e giocattoli/Giochi da tavola, di societ\\u00e0 e accessori\",\"Libri/Tempo libero\",\"Libri/Viaggi\",\"Elettronica/Cuffie, auricolari e accessori\",\"Attrezzature per l'irrigazione/Attrezzature per l'irrigazione automatica\",\"Illuminazione/Lampadine\",\"Illuminazione/Lampadine\",\"Illuminazione/Lampadine\",\"Libri/Libri per bambini\",\"Libri/Letteratura e narrativa\",\"Illuminazione/Illuminazione per esterni\",\"Libri/Scienze, tecnologia e medicina\",\"Libri/Libri universitari\",\"Casa e cucina/T\\u00e8 e caff\\u00e8\",\"CD e Vinili/Musica internazionale\",\"Libri/Letteratura e narrativa\",\"Libri/Letteratura e narrativa\",\"Libri/Letteratura e narrativa\",\"Salute e cura della persona/Cura della vista\",\"Libri/Viaggi\",\"Alimentari e cura della casa/Cibi in scatola e conserve\",\"Casa e cucina/Vasellame\",\"Elettronica/Pile e caricabatterie\",\"Elettronica/Pile e caricabatterie\",\"Cancelleria e prodotti per ufficio/Elettronica per ufficio\",\"CD e Vinili/Pop\",\"Casa e cucina/Vasellame\",\"Sport e tempo libero/Fitness e palestra\",\"Elettronica/Home Cinema, TV e video\",\"Elettronica/Accessori di alimentazione elettrica\",\"Salute e cura della persona/Prodotti per la medicazione\",\"Libri/Letteratura e narrativa\",\"Salute e cura della persona/Rasatura, epilazione e rimozione peli\",\"Grandi elettrodomestici/Accessori e parti di ricambio\",\"Casa e cucina/Elettrodomestici per la cucina\",\"Libri/Letteratura e narrativa\",\"Alimentari e cura della casa/Salse e sughi\",\"Moda/Bambini e ragazzi\",\"Moda/Donna\",\"Moda/Uomo\",\"Libri/Libri universitari\",\"Salute e cura della persona/Ausili per la mobilit\\u00e0 e vita quotidiana\",\"Salute e cura della persona/Erotismo e contraccezione\",\"Sport e tempo libero/Sport\",\"Casa e cucina/Detergenti e prodotti per la pulizia\",\"Fai da te/Ferramenta\",\"Libri/Arte, cinema e fotografia\",\"Libri/Letteratura e narrativa\",\"Fai da te/Utensili elettrici e a mano\",\"Bellezza/Accessori e strumenti di bellezza\",\"Bellezza/Cura dei capelli\",\"Libri/Politica\",\"Informatica/Accessori\",\"Libri/Sport\",\"Libri/Adolescenti e ragazzi\",\"Libri/Libri per bambini\",\"Casa e cucina/Contenitori e barattoli\",\"Sport e tempo libero/Sport\",\"Libri/Libri universitari\",\"Fai da te/Utensili elettrici e a mano\",\"Bellezza/Cura della pelle\",\"Moda/Valigie, borse e accessori da viaggio\",\"Informatica\",\"Elettronica\",\"Grandi elettrodomestici\",\"Bellezza\",\"Libri\",\"Libri\",\"Sport e tempo libero\",\"Attrezzature per l'irrigazione\",\"Elettronica\",\"Salute e cura della persona\",\"Moda\",\"Libri\",\"Alimentari e cura della casa\",\"Elettronica\",\"Alimentari e cura della casa\",\"Casa e cucina\",\"Elettronica\",\"Bellezza\",\"Bellezza\",\"Salute e cura della persona\",\"CD e Vinili\",\"Casa e cucina\",\"Informatica\",\"Casa e cucina\",\"Moda\",\"Casa e cucina\",\"Cancelleria e prodotti per ufficio\",\"Elettronica\",\"Salute e cura della persona\",\"Fai da te\",\"Sport e tempo libero\",\"Elettronica\",\"Giochi e giocattoli\",\"Giochi e giocattoli\",\"Elettronica\",\"Salute e cura della persona\",\"Salute e cura della persona\",\"Illuminazione\",\"CD e Vinili\",\"Illuminazione\",\"Libri\",\"Libri\",\"Libri\",\"Fai da te\",\"CD e Vinili\",\"Videogiochi\",\"Elettronica\",\"Libri\",\"CD e Vinili\",\"Salute e cura della persona\",\"Salute e cura della persona\",\"Libri\",\"Alimentari e cura della casa\",\"Libri\",\"Fai da te\",\"Libri\",\"Libri\",\"Sport e tempo libero\",\"Libri\",\"Casa e cucina\",\"Casa e cucina\",\"Moda\",\"Fai da te\",\"Moda\",\"Casa e cucina\",\"Giochi e giocattoli\",\"Libri\",\"\",\"\",\"\",\"\",\"\",\"\",\"\",\"\",\"\",\"\",\"\",\"\",\"\",\"\",\"\",\"\",\"\"],\"values\":[1,2,2,6,1,5,3,1,2,1,1,2,2,1,1,4,1,1,1,1,2,1,3,2,4,1,2,1,4,4,1,1,2,1,1,2,1,4,1,1,1,1,5,4,1,1,2,1,1,4,1,1,1,1,2,3,1,1,1,1,2,1,12,4,1,2,1,2,1,3,2,1,1,2,2,1,1,2,1,1,1,1,3,1,1,1,4,2,1,2,2,1,1,2,2,1,1,1,1,1,1,1,1,1,1,4,2,2,1,8,3,1,1,2,15,1,1,2,1,1,2,4,10,2,1,3,1,2,2,1,1,4,3,2,1,1,1,2,1,2,6,1,1,4,4,2,1,1,4,27,4,7,1,1,2,5,1,1,2,1,2,1,2,1,1,1,3,4,1,3,6,3,1,6,1,5,7,1,4,4,1,16,34,6,3,1,5,12,73,10,14,6,2],\"type\":\"treemap\",\"textfont\":{\"size\":20}}],                        {\"template\":{\"data\":{\"histogram2dcontour\":[{\"type\":\"histogram2dcontour\",\"colorbar\":{\"outlinewidth\":0,\"ticks\":\"\"},\"colorscale\":[[0.0,\"#0d0887\"],[0.1111111111111111,\"#46039f\"],[0.2222222222222222,\"#7201a8\"],[0.3333333333333333,\"#9c179e\"],[0.4444444444444444,\"#bd3786\"],[0.5555555555555556,\"#d8576b\"],[0.6666666666666666,\"#ed7953\"],[0.7777777777777778,\"#fb9f3a\"],[0.8888888888888888,\"#fdca26\"],[1.0,\"#f0f921\"]]}],\"choropleth\":[{\"type\":\"choropleth\",\"colorbar\":{\"outlinewidth\":0,\"ticks\":\"\"}}],\"histogram2d\":[{\"type\":\"histogram2d\",\"colorbar\":{\"outlinewidth\":0,\"ticks\":\"\"},\"colorscale\":[[0.0,\"#0d0887\"],[0.1111111111111111,\"#46039f\"],[0.2222222222222222,\"#7201a8\"],[0.3333333333333333,\"#9c179e\"],[0.4444444444444444,\"#bd3786\"],[0.5555555555555556,\"#d8576b\"],[0.6666666666666666,\"#ed7953\"],[0.7777777777777778,\"#fb9f3a\"],[0.8888888888888888,\"#fdca26\"],[1.0,\"#f0f921\"]]}],\"heatmap\":[{\"type\":\"heatmap\",\"colorbar\":{\"outlinewidth\":0,\"ticks\":\"\"},\"colorscale\":[[0.0,\"#0d0887\"],[0.1111111111111111,\"#46039f\"],[0.2222222222222222,\"#7201a8\"],[0.3333333333333333,\"#9c179e\"],[0.4444444444444444,\"#bd3786\"],[0.5555555555555556,\"#d8576b\"],[0.6666666666666666,\"#ed7953\"],[0.7777777777777778,\"#fb9f3a\"],[0.8888888888888888,\"#fdca26\"],[1.0,\"#f0f921\"]]}],\"heatmapgl\":[{\"type\":\"heatmapgl\",\"colorbar\":{\"outlinewidth\":0,\"ticks\":\"\"},\"colorscale\":[[0.0,\"#0d0887\"],[0.1111111111111111,\"#46039f\"],[0.2222222222222222,\"#7201a8\"],[0.3333333333333333,\"#9c179e\"],[0.4444444444444444,\"#bd3786\"],[0.5555555555555556,\"#d8576b\"],[0.6666666666666666,\"#ed7953\"],[0.7777777777777778,\"#fb9f3a\"],[0.8888888888888888,\"#fdca26\"],[1.0,\"#f0f921\"]]}],\"contourcarpet\":[{\"type\":\"contourcarpet\",\"colorbar\":{\"outlinewidth\":0,\"ticks\":\"\"}}],\"contour\":[{\"type\":\"contour\",\"colorbar\":{\"outlinewidth\":0,\"ticks\":\"\"},\"colorscale\":[[0.0,\"#0d0887\"],[0.1111111111111111,\"#46039f\"],[0.2222222222222222,\"#7201a8\"],[0.3333333333333333,\"#9c179e\"],[0.4444444444444444,\"#bd3786\"],[0.5555555555555556,\"#d8576b\"],[0.6666666666666666,\"#ed7953\"],[0.7777777777777778,\"#fb9f3a\"],[0.8888888888888888,\"#fdca26\"],[1.0,\"#f0f921\"]]}],\"surface\":[{\"type\":\"surface\",\"colorbar\":{\"outlinewidth\":0,\"ticks\":\"\"},\"colorscale\":[[0.0,\"#0d0887\"],[0.1111111111111111,\"#46039f\"],[0.2222222222222222,\"#7201a8\"],[0.3333333333333333,\"#9c179e\"],[0.4444444444444444,\"#bd3786\"],[0.5555555555555556,\"#d8576b\"],[0.6666666666666666,\"#ed7953\"],[0.7777777777777778,\"#fb9f3a\"],[0.8888888888888888,\"#fdca26\"],[1.0,\"#f0f921\"]]}],\"mesh3d\":[{\"type\":\"mesh3d\",\"colorbar\":{\"outlinewidth\":0,\"ticks\":\"\"}}],\"scatter\":[{\"fillpattern\":{\"fillmode\":\"overlay\",\"size\":10,\"solidity\":0.2},\"type\":\"scatter\"}],\"parcoords\":[{\"type\":\"parcoords\",\"line\":{\"colorbar\":{\"outlinewidth\":0,\"ticks\":\"\"}}}],\"scatterpolargl\":[{\"type\":\"scatterpolargl\",\"marker\":{\"colorbar\":{\"outlinewidth\":0,\"ticks\":\"\"}}}],\"bar\":[{\"error_x\":{\"color\":\"#2a3f5f\"},\"error_y\":{\"color\":\"#2a3f5f\"},\"marker\":{\"line\":{\"color\":\"#E5ECF6\",\"width\":0.5},\"pattern\":{\"fillmode\":\"overlay\",\"size\":10,\"solidity\":0.2}},\"type\":\"bar\"}],\"scattergeo\":[{\"type\":\"scattergeo\",\"marker\":{\"colorbar\":{\"outlinewidth\":0,\"ticks\":\"\"}}}],\"scatterpolar\":[{\"type\":\"scatterpolar\",\"marker\":{\"colorbar\":{\"outlinewidth\":0,\"ticks\":\"\"}}}],\"histogram\":[{\"marker\":{\"pattern\":{\"fillmode\":\"overlay\",\"size\":10,\"solidity\":0.2}},\"type\":\"histogram\"}],\"scattergl\":[{\"type\":\"scattergl\",\"marker\":{\"colorbar\":{\"outlinewidth\":0,\"ticks\":\"\"}}}],\"scatter3d\":[{\"type\":\"scatter3d\",\"line\":{\"colorbar\":{\"outlinewidth\":0,\"ticks\":\"\"}},\"marker\":{\"colorbar\":{\"outlinewidth\":0,\"ticks\":\"\"}}}],\"scattermapbox\":[{\"type\":\"scattermapbox\",\"marker\":{\"colorbar\":{\"outlinewidth\":0,\"ticks\":\"\"}}}],\"scatterternary\":[{\"type\":\"scatterternary\",\"marker\":{\"colorbar\":{\"outlinewidth\":0,\"ticks\":\"\"}}}],\"scattercarpet\":[{\"type\":\"scattercarpet\",\"marker\":{\"colorbar\":{\"outlinewidth\":0,\"ticks\":\"\"}}}],\"carpet\":[{\"aaxis\":{\"endlinecolor\":\"#2a3f5f\",\"gridcolor\":\"white\",\"linecolor\":\"white\",\"minorgridcolor\":\"white\",\"startlinecolor\":\"#2a3f5f\"},\"baxis\":{\"endlinecolor\":\"#2a3f5f\",\"gridcolor\":\"white\",\"linecolor\":\"white\",\"minorgridcolor\":\"white\",\"startlinecolor\":\"#2a3f5f\"},\"type\":\"carpet\"}],\"table\":[{\"cells\":{\"fill\":{\"color\":\"#EBF0F8\"},\"line\":{\"color\":\"white\"}},\"header\":{\"fill\":{\"color\":\"#C8D4E3\"},\"line\":{\"color\":\"white\"}},\"type\":\"table\"}],\"barpolar\":[{\"marker\":{\"line\":{\"color\":\"#E5ECF6\",\"width\":0.5},\"pattern\":{\"fillmode\":\"overlay\",\"size\":10,\"solidity\":0.2}},\"type\":\"barpolar\"}],\"pie\":[{\"automargin\":true,\"type\":\"pie\"}]},\"layout\":{\"autotypenumbers\":\"strict\",\"colorway\":[\"#636efa\",\"#EF553B\",\"#00cc96\",\"#ab63fa\",\"#FFA15A\",\"#19d3f3\",\"#FF6692\",\"#B6E880\",\"#FF97FF\",\"#FECB52\"],\"font\":{\"color\":\"#2a3f5f\"},\"hovermode\":\"closest\",\"hoverlabel\":{\"align\":\"left\"},\"paper_bgcolor\":\"white\",\"plot_bgcolor\":\"#E5ECF6\",\"polar\":{\"bgcolor\":\"#E5ECF6\",\"angularaxis\":{\"gridcolor\":\"white\",\"linecolor\":\"white\",\"ticks\":\"\"},\"radialaxis\":{\"gridcolor\":\"white\",\"linecolor\":\"white\",\"ticks\":\"\"}},\"ternary\":{\"bgcolor\":\"#E5ECF6\",\"aaxis\":{\"gridcolor\":\"white\",\"linecolor\":\"white\",\"ticks\":\"\"},\"baxis\":{\"gridcolor\":\"white\",\"linecolor\":\"white\",\"ticks\":\"\"},\"caxis\":{\"gridcolor\":\"white\",\"linecolor\":\"white\",\"ticks\":\"\"}},\"coloraxis\":{\"colorbar\":{\"outlinewidth\":0,\"ticks\":\"\"}},\"colorscale\":{\"sequential\":[[0.0,\"#0d0887\"],[0.1111111111111111,\"#46039f\"],[0.2222222222222222,\"#7201a8\"],[0.3333333333333333,\"#9c179e\"],[0.4444444444444444,\"#bd3786\"],[0.5555555555555556,\"#d8576b\"],[0.6666666666666666,\"#ed7953\"],[0.7777777777777778,\"#fb9f3a\"],[0.8888888888888888,\"#fdca26\"],[1.0,\"#f0f921\"]],\"sequentialminus\":[[0.0,\"#0d0887\"],[0.1111111111111111,\"#46039f\"],[0.2222222222222222,\"#7201a8\"],[0.3333333333333333,\"#9c179e\"],[0.4444444444444444,\"#bd3786\"],[0.5555555555555556,\"#d8576b\"],[0.6666666666666666,\"#ed7953\"],[0.7777777777777778,\"#fb9f3a\"],[0.8888888888888888,\"#fdca26\"],[1.0,\"#f0f921\"]],\"diverging\":[[0,\"#8e0152\"],[0.1,\"#c51b7d\"],[0.2,\"#de77ae\"],[0.3,\"#f1b6da\"],[0.4,\"#fde0ef\"],[0.5,\"#f7f7f7\"],[0.6,\"#e6f5d0\"],[0.7,\"#b8e186\"],[0.8,\"#7fbc41\"],[0.9,\"#4d9221\"],[1,\"#276419\"]]},\"xaxis\":{\"gridcolor\":\"white\",\"linecolor\":\"white\",\"ticks\":\"\",\"title\":{\"standoff\":15},\"zerolinecolor\":\"white\",\"automargin\":true,\"zerolinewidth\":2},\"yaxis\":{\"gridcolor\":\"white\",\"linecolor\":\"white\",\"ticks\":\"\",\"title\":{\"standoff\":15},\"zerolinecolor\":\"white\",\"automargin\":true,\"zerolinewidth\":2},\"scene\":{\"xaxis\":{\"backgroundcolor\":\"#E5ECF6\",\"gridcolor\":\"white\",\"linecolor\":\"white\",\"showbackground\":true,\"ticks\":\"\",\"zerolinecolor\":\"white\",\"gridwidth\":2},\"yaxis\":{\"backgroundcolor\":\"#E5ECF6\",\"gridcolor\":\"white\",\"linecolor\":\"white\",\"showbackground\":true,\"ticks\":\"\",\"zerolinecolor\":\"white\",\"gridwidth\":2},\"zaxis\":{\"backgroundcolor\":\"#E5ECF6\",\"gridcolor\":\"white\",\"linecolor\":\"white\",\"showbackground\":true,\"ticks\":\"\",\"zerolinecolor\":\"white\",\"gridwidth\":2}},\"shapedefaults\":{\"line\":{\"color\":\"#2a3f5f\"}},\"annotationdefaults\":{\"arrowcolor\":\"#2a3f5f\",\"arrowhead\":0,\"arrowwidth\":1},\"geo\":{\"bgcolor\":\"white\",\"landcolor\":\"#E5ECF6\",\"subunitcolor\":\"white\",\"showland\":true,\"showlakes\":true,\"lakecolor\":\"white\"},\"title\":{\"x\":0.05},\"mapbox\":{\"style\":\"light\"}}},\"legend\":{\"tracegroupgap\":0},\"title\":{\"text\":\"The physical stores that have seen you the least in recent years\"},\"treemapcolorway\":[\"DarkOrange\",\"MidnightBlue\",\"Black\",\"DodgerBlue\",\"SteelBlue\",\"WhiteSmoke\",\"DarkSlateGray\",\"LightGray\"]},                        {\"responsive\": true}                    ).then(function(){\n",
       "                            \n",
       "var gd = document.getElementById('f9f739fc-f119-4cf7-b051-2a95da23973c');\n",
       "var x = new MutationObserver(function (mutations, observer) {{\n",
       "        var display = window.getComputedStyle(gd).display;\n",
       "        if (!display || display === 'none') {{\n",
       "            console.log([gd, 'removed!']);\n",
       "            Plotly.purge(gd);\n",
       "            observer.disconnect();\n",
       "        }}\n",
       "}});\n",
       "\n",
       "// Listen for the removal of the full notebook cells\n",
       "var notebookContainer = gd.closest('#notebook-container');\n",
       "if (notebookContainer) {{\n",
       "    x.observe(notebookContainer, {childList: true});\n",
       "}}\n",
       "\n",
       "// Listen for the clearing of the current output cell\n",
       "var outputEl = gd.closest('.output');\n",
       "if (outputEl) {{\n",
       "    x.observe(outputEl, {childList: true});\n",
       "}}\n",
       "\n",
       "                        })                };                });            </script>        </div>"
      ]
     },
     "metadata": {},
     "output_type": "display_data"
    }
   ],
   "source": [
    "visualize_item_by_category(order_data)"
   ]
  },
  {
   "cell_type": "code",
   "execution_count": 40,
   "id": "3068f382-640e-4796-a419-75ea36c86dd9",
   "metadata": {
    "tags": []
   },
   "outputs": [
    {
     "data": {
      "image/png": "[encoded data removed]",
      "text/plain": [
       "<Figure size 1300x900 with 1 Axes>"
      ]
     },
     "metadata": {},
     "output_type": "display_data"
    }
   ],
   "source": [
    "visualize_orders_by_year(order_data)"
   ]
  },
  {
   "cell_type": "code",
   "execution_count": 41,
   "id": "f6c3b469-144a-42d0-aed7-9c23c2d59455",
   "metadata": {},
   "outputs": [
    {
     "data": {
      "image/png": "[encoded data removed]",
      "text/plain": [
       "<Figure size 1300x900 with 1 Axes>"
      ]
     },
     "metadata": {},
     "output_type": "display_data"
    }
   ],
   "source": [
    "cumulative_expense(order_data)"
   ]
  },
  {
   "cell_type": "code",
   "execution_count": null,
   "id": "e7bc639d-68f6-4972-9f49-0287e12d2b42",
   "metadata": {},
   "outputs": [],
   "source": []
  }
 ],
 "metadata": {
  "kernelspec": {
   "display_name": "Python 3 (ipykernel)",
   "language": "python",
   "name": "python3"
  },
  "language_info": {
   "codemirror_mode": {
    "name": "ipython",
    "version": 3
   },
   "file_extension": ".py",
   "mimetype": "text/x-python",
   "name": "python",
   "nbconvert_exporter": "python",
   "pygments_lexer": "ipython3",
   "version": "3.10.6"
  }
 },
 "nbformat": 4,
 "nbformat_minor": 5
}
